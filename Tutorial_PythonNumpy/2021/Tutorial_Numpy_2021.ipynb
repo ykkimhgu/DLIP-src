{
  "nbformat": 4,
  "nbformat_minor": 0,
  "metadata": {
    "colab": {
      "name": "Tutorial_Numpy_2021.ipynb",
      "provenance": [],
      "collapsed_sections": [],
      "include_colab_link": true
    },
    "kernelspec": {
      "name": "python3",
      "display_name": "Python 3"
    }
  },
  "cells": [
    {
      "cell_type": "markdown",
      "metadata": {
        "id": "view-in-github",
        "colab_type": "text"
      },
      "source": [
        "<a href=\"https://colab.research.google.com/github/ykkimhgu/DLIP-src/blob/main/Tutorial_Numpy_2021.ipynb\" target=\"_parent\"><img src=\"https://colab.research.google.com/assets/colab-badge.svg\" alt=\"Open In Colab\"/></a>"
      ]
    },
    {
      "cell_type": "markdown",
      "metadata": {
        "id": "4EWg_ff9Dy2G"
      },
      "source": [
        "# Numpy  Basics\n",
        "*Learning Numpy  in 60 minutes by Y.-K. Kim*\n",
        "\n",
        "We will use the Python and Numpy for Deep Learning assignments in this course.\n",
        "NumPy is short for \"Numerical Python\".\n",
        "NumPy is used for working with arrays. It provides a high-performance multidimensional array object, and tools for working with these arrays. \n",
        "\n",
        "It also has functions for working in domain of linear algebra, fourier transform, and matrices.\n",
        "\n",
        "NumPy aims to provide an array object that is up to 50x faster than traditional Python lists.\n",
        "\n",
        "\n",
        "This tutorial is created from various references of\n",
        "\n",
        "1. Python Numpy Tutorial by CS231n : https://cs231n.github.io\n",
        "2. python-numpy-tutorial: https://www.w3schools.com/python/numpy/default.asp"
      ]
    },
    {
      "cell_type": "markdown",
      "metadata": {
        "id": "JR2yA7pSFvs0"
      },
      "source": [
        "# Import and version check\n",
        "\n"
      ]
    },
    {
      "cell_type": "code",
      "metadata": {
        "id": "8a36q2a4F4ta"
      },
      "source": [
        "# import numpy using alias of np\n",
        "import numpy as np \n",
        "\n",
        "# check version\n",
        "print(np.__version__)"
      ],
      "execution_count": null,
      "outputs": []
    },
    {
      "cell_type": "markdown",
      "metadata": {
        "id": "FG0uVrY8FgrH"
      },
      "source": [
        "# Arrays\n",
        "\n",
        "The array object in NumPy is called ndarray.\n",
        "\n",
        "We can create a NumPy ndarray object by using the array() function.\n",
        "\n",
        "we can pass a **list, tuple or any array-like object** into the array() method, and it will be converted into an **ndarray**:"
      ]
    },
    {
      "cell_type": "markdown",
      "metadata": {
        "id": "6iZqfD34MRZQ"
      },
      "source": [
        "### 1-D Arrays"
      ]
    },
    {
      "cell_type": "code",
      "metadata": {
        "id": "IyFSxCgJL3Wj"
      },
      "source": [
        "import numpy as np\n",
        "\n",
        "# Pass a List\n",
        "arr = np.array([1, 2, 3, 4, 5])\n",
        "print(arr)\n",
        "print(type(arr))\n",
        "\n",
        "# Pass a Tuple\n",
        "arr = np.array((1, 2, 3, 4, 5))\n",
        "print(arr)\n",
        "print(type(arr))"
      ],
      "execution_count": null,
      "outputs": []
    },
    {
      "cell_type": "markdown",
      "metadata": {
        "id": "dRJRZ4zjMVJw"
      },
      "source": [
        "### 2-D Arrays\n",
        "\n",
        "dim: (Row, Col)"
      ]
    },
    {
      "cell_type": "code",
      "metadata": {
        "id": "VIy8aNjQMUxP"
      },
      "source": [
        "# (2x3)\n",
        "mat2D = np.array([[1, 2, 3], [4, 5, 6]])\n",
        "\n",
        "print(mat2D)\n",
        "print(mat2D.ndim)\n",
        "print (mat2D.shape)\n",
        "\n",
        "# Access elements\n",
        "print(mat2D[0,0])\n",
        "print(mat2D[0,1])\n",
        "print(mat2D[1,0])"
      ],
      "execution_count": null,
      "outputs": []
    },
    {
      "cell_type": "markdown",
      "metadata": {
        "id": "QNqnb7ORMj7_"
      },
      "source": [
        "### 3-D Arrays\n",
        "\n",
        "dim: (Ch, Row, Col)"
      ]
    },
    {
      "cell_type": "code",
      "metadata": {
        "id": "Hr8MddmQMm9H"
      },
      "source": [
        "#  2chx(2x3)  (Ch, Row, Col)\n",
        "mat3D = np.array([[[1, 2, 3], [4, 5, 6]], [[11, 12, 13], [14, 15, 16]]])\n",
        "\n",
        "print(mat3D)\n",
        "print(mat3D.ndim)\n",
        "print (mat3D.shape)\n",
        "\n",
        "# Access elements\n",
        "print(mat3D[0,0,0])\n",
        "print(mat3D[0,0,1])\n",
        "print(mat3D[0,1,0])\n",
        "print(mat3D[1,0,0])"
      ],
      "execution_count": null,
      "outputs": []
    },
    {
      "cell_type": "markdown",
      "metadata": {
        "id": "iwIvBwUeO6uJ"
      },
      "source": [
        "## Special Array/Matrix"
      ]
    },
    {
      "cell_type": "code",
      "metadata": {
        "id": "zUHi2nxxO_Oi"
      },
      "source": [
        "a = np.zeros((2,2))   \n",
        "print(a)  \n",
        "print(\"\\n\")            \n",
        "                     \n",
        "\n",
        "b = np.ones((1,2))    \n",
        "print(b)              \n",
        "print(\"\\n\")            \n",
        "\n",
        "c = np.full((2,2), 7)  \n",
        "print(c)                \n",
        "print(\"\\n\")            \n",
        "\n",
        "d = np.eye(2)         \n",
        "print(d)              \n",
        "print(\"\\n\")            \n",
        "\n",
        "e = np.random.random((2,2))  \n",
        "print(e)                     \n",
        "print(\"\\n\")            "
      ],
      "execution_count": null,
      "outputs": []
    },
    {
      "cell_type": "markdown",
      "metadata": {
        "id": "xojlOO1JQiRZ"
      },
      "source": [
        "# NumPy Array Slicing\n",
        "We pass slice instead of index like this: [start:end].\n",
        "\n",
        "We can also define the step, like this: [start:end:step].\n",
        " > includes the start index, but excludes the end index."
      ]
    },
    {
      "cell_type": "code",
      "metadata": {
        "id": "mAitv9ENQ3Lz"
      },
      "source": [
        "import numpy as np\n",
        "\n",
        "arr = np.array([1, 2, 3, 4, 5, 6, 7])\n",
        "\n",
        "print(arr[4:])\n",
        "\n",
        "print(arr[: :2])\n",
        "\n",
        "print(arr[-1:])\n",
        "\n",
        "print(arr[-3:-1])"
      ],
      "execution_count": null,
      "outputs": []
    },
    {
      "cell_type": "code",
      "metadata": {
        "id": "U7rVEoGERXd5"
      },
      "source": [
        "mat2D = np.array([[1, 2, 3], [4, 5, 6], [7, 8, 9]])\n",
        "print(mat2D)\n",
        "print(\"\\n\")\n",
        "\n",
        "ROI2D=mat2D[1:, 1:]\n",
        "print(ROI2D)\n",
        "print(\"\\n\")\n",
        "\n"
      ],
      "execution_count": null,
      "outputs": []
    },
    {
      "cell_type": "markdown",
      "metadata": {
        "id": "Hm728ncxSj_r"
      },
      "source": [
        "What happends to mat2D if we modify ROI2D ? \n",
        "\n",
        "```\n",
        "  ROI2D[0,0]=-5\n",
        "  print(ROI2D)\n",
        "  print(mat2D)  # does original array change ?\n",
        "```"
      ]
    },
    {
      "cell_type": "code",
      "metadata": {
        "id": "yAELi7--S01D"
      },
      "source": [
        "# What happends to mat2D if we modify ROI2D ? \n",
        "\n",
        "mat2D = np.array([[1, 2, 3], [4, 5, 6], [7, 8, 9]])\n",
        "ROI2D=mat2D[1:, 1:]\n",
        "\n",
        "print(ROI2D.base)\n",
        "\n",
        "print(\"\\n Original matrix \")\n",
        "print(mat2D)\n",
        "\n",
        "print(\"\\n ROI \")\n",
        "print(ROI2D)\n",
        "\n",
        "ROI2D[0,0]=-55\n",
        "\n",
        "print(\"\\n ROI After Modified \")\n",
        "print(ROI2D)\n",
        "\n",
        "print(\"\\n Original matrix \")  # It has been modified\n",
        "print(mat2D)\n",
        "\n",
        "print(ROI2D.base)\n",
        "\n",
        "\n",
        "\n"
      ],
      "execution_count": null,
      "outputs": []
    },
    {
      "cell_type": "code",
      "metadata": {
        "id": "t7qyhFPxW6SU"
      },
      "source": [
        ""
      ],
      "execution_count": null,
      "outputs": []
    },
    {
      "cell_type": "markdown",
      "metadata": {
        "id": "xSvvAFIDW6xz"
      },
      "source": [
        "Copy a slide of array to prevent the orignal array modification "
      ]
    },
    {
      "cell_type": "code",
      "metadata": {
        "id": "HgdDCc_wVJfc"
      },
      "source": [
        "# Copy the slice of array to prevent original array modification\n",
        "\n",
        "mat2D = np.array([[1, 2, 3], [4, 5, 6], [7, 8, 9]])\n",
        "ROI2D = mat2D[1:, 1:].copy()\n",
        "\n",
        "print(\"\\n Original matrix \")\n",
        "print(mat2D)\n",
        "\n",
        "print(\"\\n ROI \")\n",
        "print(ROI2D)\n",
        "\n",
        "ROI2D[0,0]=-55\n",
        "\n",
        "print(\"\\n ROI After Modified \")\n",
        "print(ROI2D)\n",
        "\n",
        "print(\"\\n Original matrix \")  # untacted\n",
        "print(mat2D)\n",
        "\n",
        "print(ROI2D.base)\n"
      ],
      "execution_count": null,
      "outputs": []
    },
    {
      "cell_type": "markdown",
      "metadata": {
        "id": "HuALOkX3WX2t"
      },
      "source": [
        "# Reshaping arrays\n",
        "Reshaping means changing the shape of an array.\n",
        "\n",
        "The shape of an array is the number of elements in each dimension.\n",
        "\n",
        "By reshaping we can add or remove dimensions or change number of elements in each dimension.\n",
        "> This is view(). Changing the reshaped array will also change the original array"
      ]
    },
    {
      "cell_type": "markdown",
      "metadata": {
        "id": "Fu8lEP0UlUsS"
      },
      "source": [
        "## Reshape From 1-D to k-D\n",
        "\n",
        "`newarr = arr.reshape(k, m, n)`"
      ]
    },
    {
      "cell_type": "code",
      "metadata": {
        "id": "vtoCinqlliIi"
      },
      "source": [
        "arr = np.array([1, 2, 3, 4, 5, 6, 7, 8, 9, 10, 11, 12])\n",
        "\n",
        "\n",
        "# 1D to  2D\n",
        "print(\"\\nOriginal Array\")\n",
        "print(arr)\n",
        "newarr = arr.reshape(4, 3)\n",
        "\n",
        "print(\"\\nReshaped Array\")\n",
        "print(newarr)\n",
        "print(newarr.shape)\n",
        "\n",
        "\n",
        "# 1D to  k x (m, unknown) \n",
        "newarr2 = arr.reshape(2, 2, -1)\n",
        "print(\"\\nReshaped Array\")\n",
        "print(newarr2)\n",
        "print(newarr2.shape)\n",
        "\n",
        "# 1D to  3D of  k x (m,n) \n",
        "newarr3 = arr.reshape(2, 3, 2)\n",
        "print(\"\\nReshaped Array\")\n",
        "print(newarr3)\n",
        "print(newarr3.shape)\n"
      ],
      "execution_count": null,
      "outputs": []
    },
    {
      "cell_type": "markdown",
      "metadata": {
        "id": "jbFN44yql1Bq"
      },
      "source": [
        "## Reshape From 2D to 1D\n",
        "`newarr = arr.reshape(-1)`"
      ]
    },
    {
      "cell_type": "code",
      "metadata": {
        "id": "T7BmfYNVmBUB"
      },
      "source": [
        "arr = np.array([[1, 2, 3], [4, 5, 6]])\n",
        "\n",
        "print(\"\\nOriginal Array\")\n",
        "print(arr)\n",
        "\n",
        "newarr = arr.reshape(-1)\n",
        "\n",
        "print(\"\\nReshaped Array\")\n",
        "print(newarr)"
      ],
      "execution_count": null,
      "outputs": []
    },
    {
      "cell_type": "markdown",
      "metadata": {
        "id": "TtMxD3qfnDSE"
      },
      "source": [
        "# Iterate\n",
        "\n",
        "* In a 2-D array it will go through all the rows.\n",
        "* If we iterate on a n-D array it will go through n-1th dimension one by one."
      ]
    },
    {
      "cell_type": "code",
      "metadata": {
        "id": "U1EVDQ9bnGhC"
      },
      "source": [
        "arr = np.array([1, 2, 3])\n",
        "for x in arr:\n",
        "  print(x)\n",
        "print(\"\\n\")  \n",
        "\n",
        "\n",
        "arr = np.array([[1, 2, 3], [4, 5, 6]])\n",
        "for x in arr:\n",
        "  print(x)\n",
        "  print(\"\\t\")  \n",
        "print(\"\\n\")  \n",
        "\n",
        "arr = np.array([[[1, 2, 3], [4, 5, 6]], [[7, 8, 9], [10, 11, 12]]])\n",
        "for x in arr:\n",
        "  print(x)\n",
        "  print(\"\\t\")\n",
        "print(\"\\n\")  "
      ],
      "execution_count": null,
      "outputs": []
    },
    {
      "cell_type": "markdown",
      "metadata": {
        "id": "Pb1o7hQ9opLE"
      },
      "source": [
        "To return the actual values, the scalars, \n",
        "* we have to iterate the arrays in each dimension.\n",
        "* or use nditer()"
      ]
    },
    {
      "cell_type": "code",
      "metadata": {
        "id": "A9fGv6jfoq3T"
      },
      "source": [
        "arr = np.array([[1, 2, 3], [4, 5, 6]])\n",
        "\n",
        "# Method 1:  iterate each dimension \n",
        "for x in arr:\n",
        "  for y in x:\n",
        "    print(y)\n",
        "print(\"\\n\")  \n",
        "\n",
        "\n",
        "# Method 2:  using  nditer()\n",
        "for x in np.nditer(arr):\n",
        "  print(x)"
      ],
      "execution_count": null,
      "outputs": []
    },
    {
      "cell_type": "markdown",
      "metadata": {
        "id": "mxwMEr-G-EVb"
      },
      "source": [
        "# Vector Matrix Operations\n",
        "* add\n",
        "* sum\n",
        "* subtract\n",
        "* divide\n",
        "* power\n",
        "* mod\n",
        "* absolute\n",
        "* multiply  (elementwise multiplication)           \n",
        "* dot  (dot product)\n",
        "* matmul  (matrix mult)"
      ]
    },
    {
      "cell_type": "code",
      "metadata": {
        "id": "w7tV1mRv_IBm"
      },
      "source": [
        "\n",
        "arr1 = np.array([1, 2, 7])\n",
        "arr2 = np.array([2, 2, 6])\n",
        "\n",
        "newarr = np.add(arr1, arr2)\n",
        "print(newarr)\n",
        "\n",
        "\n",
        "# Sum the values ( in arr1 and the values in arr2 ):\n",
        "newarr = np.sum([arr1, arr2])\n",
        "print(newarr)\n",
        "\n",
        "# Sum by axis\n",
        "newarr = np.sum([arr1, arr2], axis=0)\n",
        "print(newarr)\n",
        "newarr = np.sum([arr1, arr2], axis=1)\n",
        "print(newarr)\n",
        "print(\"\\n\")\n",
        "\n",
        "# Matrix operations\n",
        "mat1 = np.array([[1, 1, 1],[2, 2, 2],[3, 3, 3]])\n",
        "mat2 = np.array([[1, 2, 3],[6, 5, 4],[9, 8, 4]])\n",
        "\n",
        "print(mat1)\n",
        "print(mat2)\n",
        "print(\"\\n\")\n",
        "\n",
        "\n",
        "S = np.matmul(mat1, mat2)                  \n",
        "print(S)\n",
        "print(\"\\n\")\n",
        "\n",
        "S2 = np.multiply(mat1, mat2)       # elementwise multiplication           \n",
        "print(S2)\n",
        "print(\"\\n\")\n",
        "\n",
        "Y2 = np.multiply(mat1, np.transpose(arr1) ) # ???\n",
        "print(Y2)\n",
        "print(\"\\n\")\n",
        "\n",
        "Y3 = np.matmul(mat1, np.transpose(arr1) )   # Ax\n",
        "print(\"\\nY3=\")\n",
        "print(Y3)\n",
        "print(\"\\n\")\n",
        "\n",
        "Y4 = np.matmul(mat1, arr1 )   # Ax\n",
        "print(\"\\nY4=\")\n",
        "print(Y4)\n",
        "\n",
        "Y5 = np.dot(mat1, arr1 )   # Ax\n",
        "print(\"\\nY5=\")\n",
        "print(Y5)\n",
        "\n",
        "\n",
        "Y6 = np.divide(1,mat2)                      \n",
        "print(\"\\nY6=\")\n",
        "print(Y)\n",
        "print(\"\\n\")\n",
        "\n",
        "\n"
      ],
      "execution_count": null,
      "outputs": []
    },
    {
      "cell_type": "markdown",
      "metadata": {
        "id": "eHb2O2u9WisL"
      },
      "source": [
        "# Exercise\n",
        "\n",
        "### 1. Create functions that returns min/max elements and their index of a Matrix"
      ]
    },
    {
      "cell_type": "code",
      "metadata": {
        "id": "dno7kIK_TWyg"
      },
      "source": [
        "def minVal(input):\n",
        "    min = input[0]\n",
        "    for i in range(0,len(input),1):   # for (i = 0; i < len(input); i++)\n",
        "        if (input[i] < min):\n",
        "            min = input[i]\n",
        "    return min\n",
        "\n",
        "def maxVal(input):\n",
        "    max = input[0]\n",
        "    for elem in input:\n",
        "        if (elem > max):\n",
        "            max = elem\n",
        "    return max\n",
        "\n",
        "def minIdxVal(input):\n",
        "    min = input[0]\n",
        "    for i in range(len(input)):\n",
        "        if (input[i] < min):\n",
        "            min = input[i]\n",
        "            minIdx = i\n",
        "    return minIdx, min\n",
        "\n",
        "def maxIdxVal(input):\n",
        "    max = input[0]\n",
        "    for i, elem in enumerate(input):\n",
        "        if (elem > max):\n",
        "            max = elem\n",
        "            maxIdx = i\n",
        "    return maxIdx, max"
      ],
      "execution_count": null,
      "outputs": []
    },
    {
      "cell_type": "markdown",
      "metadata": {
        "id": "3_79CJzy8OCK"
      },
      "source": [
        "## ndarray vs List\n",
        "\n",
        "What would the output be?"
      ]
    },
    {
      "cell_type": "code",
      "metadata": {
        "id": "AD7GwxQHVFw2"
      },
      "source": [
        "import numpy as np\n",
        "\n",
        "#Python List\n",
        "vecA_list = [0, 1, 2, 3, 4, 5, 6, 7, 8, 9, 10, 11, 12]\n",
        "print(\"\\nvecA_list = \\n\", vecA_list)\n",
        "\n",
        "# numpy ndarray\n",
        "vecA_np = np.array(vecA_list)\n",
        "print(\"\\nvecA_np = \\n\", vecA_np)\n",
        "\n",
        "vecA_list = vecA_list * 2\n",
        "print(\"\\nvecA_list = \\n\", vecA_list)  # python list에서는 dimension*2 \n",
        "\n",
        "vecA_np = vecA_np * 2\n",
        "print(\"\\nvecA_np = \\n\", vecA)  # ndarray에서는 value*2\n"
      ],
      "execution_count": null,
      "outputs": []
    },
    {
      "cell_type": "markdown",
      "metadata": {
        "id": "uZUgWYyDFefA"
      },
      "source": [
        "# Exercise\n",
        "\n",
        "Calculate the following formulas using numpy with given Matrix X and Y\n",
        "\n",
        "Let Matrix W0 and W1 are matrix with random values\n",
        "\n",
        "W0 = 2*np.random.randn(3,4)-1  \n",
        "W1 = 2*np.random.randn(4,2)-1  \n",
        "\n",
        "S0 = X*W0;   \n",
        "L1 = 1./(1+exp(-S0));              # elementwise division   \n",
        "S1 = L1*W1;  \n",
        "Yh = 1./(1+exp(-S1));              # elementwise division  \n",
        "dE_dS1 = -(Y-Yh).*Yh.*(1-Yh)       # elementwise multiplication  \n",
        "dE_dL1 = dE_dS1 *W1'               # matrix multiplication with transpose of W1  \n",
        "dE_dS0 = dE_dL1.*L1.*(1-L1)        # elementwise multiplication  \n",
        "\n",
        "\n"
      ]
    },
    {
      "cell_type": "code",
      "metadata": {
        "id": "vrteSNo-FgEV"
      },
      "source": [
        "import numpy as np\n",
        "\n",
        "# input/output data (w/ bias)\n",
        "X = np.array([\n",
        "    [0,0,1],\n",
        "    [0,1,1],\n",
        "    [1,1,1],\n",
        "    [1,0,1]])\n",
        "Y = np.array([\n",
        "    [1,0],\n",
        "    [0,1],\n",
        "    [1,0],\n",
        "    [0,1]])\n",
        "\n",
        "W0=  np.array([[-3,  0, -1,  1],\n",
        " [ 0, -2,  0,  0],\n",
        " [-1, -5,  1, -2]])\n",
        "\n",
        "W1=  np.array([[ 0, -3],\n",
        " [ 0, -2],\n",
        " [ 3, -1],\n",
        " [-1,  0]])\n",
        "\n",
        "\n",
        "print('W0= ',W0)\n",
        "print('W1= ',W1)\n",
        "\n",
        "# Your code goes here\n",
        "'''\n",
        "    S0 = XW0;\n",
        "    L1 = 1./(1+exp(-S0)); # elementwise division\n",
        "    S1 = L1W1;\n",
        "    Yh = 1./(1+exp(-S1)); # elementwise division\n",
        "    dE_dS1 = -(Y-Yh).Yh.(1-Yh) # elementwise multiplication\n",
        "    dE_dL1 = dE_dS1 W1' # matrix multiplication with transpose of W1\n",
        "    dE_dS0 = dE_dL1.L1.*(1-L1) # elementwise multiplication\n",
        "'''\n",
        "\n",
        "# Should get\n",
        "'''\n",
        " dE_dS0=[[-0.01488782 -0.0003356  -0.01149467  0.00116274]\n",
        "        [ 0.07061759  0.00021795  0.07551067 -0.00925117]\n",
        "        [-0.00447435 -0.00015372 -0.05075894  0.0077724 ]\n",
        "        [ 0.00780823  0.00195929  0.13838221 -0.02661933]]\n",
        "'''\n",
        "print(\"\\n\",dE_dS0)"
      ],
      "execution_count": null,
      "outputs": []
    },
    {
      "cell_type": "markdown",
      "metadata": {
        "id": "NxC5tVXVIkOi"
      },
      "source": [
        "\n",
        "\n",
        "\n",
        "\n",
        "\n",
        "\n",
        "## Solution\n",
        "\n",
        "```\n",
        "import numpy as np\n",
        "\n",
        "# input/output data (w/ bias)\n",
        "X = np.array([\n",
        "    [0,0,1],\n",
        "    [0,1,1],\n",
        "    [1,1,1],\n",
        "    [1,0,1]])\n",
        "Y = np.array([\n",
        "    [1,0],\n",
        "    [0,1],\n",
        "    [1,0],\n",
        "    [0,1]])\n",
        "\n",
        "W0=  np.array([[-3,  0, -1,  1],\n",
        " [ 0, -2,  0,  0],\n",
        " [-1, -5,  1, -2]])\n",
        "\n",
        "W1=  np.array([[ 0, -3],\n",
        " [ 0, -2],\n",
        " [ 3, -1],\n",
        " [-1,  0]])\n",
        "\n",
        "\n",
        "print('W0= ',W0)\n",
        "print('W1= ',W1)\n",
        "\n",
        "# Your code goes here\n",
        "'''\n",
        "    S0 = XW0;\n",
        "    L1 = 1./(1+exp(-S0)); # elementwise division\n",
        "    S1 = L1W1;\n",
        "    Yh = 1./(1+exp(-S1)); # elementwise division\n",
        "    dE_dS1 = -(Y-Yh).Yh.(1-Yh) # elementwise multiplication\n",
        "    dE_dL1 = dE_dS1 W1' # matrix multiplication with transpose of W1\n",
        "    dE_dS0 = dE_dL1.L1.*(1-L1) # elementwise multiplication\n",
        "'''\n",
        "\n",
        "S0 = np.matmul(X, W0)                                   # S0 = X*W0;\n",
        "L1 = np.divide(1,(1+np.exp(-S0)))                       # L1 = 1./(1+exp(-S0));\n",
        "S1 = np.matmul(L1, W1)                                  # S1 = L1*W1;\n",
        "Yh = np.divide(1,(1+np.exp(-S1)))                       # Yh = 1./(1+exp(-S1));\n",
        "# error backpropagation\n",
        "dE_dS1 = np.multiply(np.multiply(-(Y-Yh), Yh), 1-Yh)    # dE_dS1 = -(Y-Yh).*Yh.*(1-Yh)\n",
        "dE_dL1 = np.matmul(dE_dS1, np.transpose(W1))            # dE_dL1 = dE_dS1 *W1'\n",
        "dE_dS0 = np.multiply(np.multiply(dE_dL1, L1), 1-L1)     # dE_dS0 = dE_dL1.*L1.*(1-L1)\n",
        "\n",
        "print(\"\\n\",dE_dS0)```\n",
        "\n"
      ]
    }
  ]
}