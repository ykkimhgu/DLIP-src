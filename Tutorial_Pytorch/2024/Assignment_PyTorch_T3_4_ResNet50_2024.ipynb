{
 "cells": [
  {
   "cell_type": "markdown",
   "metadata": {
    "id": "xRZWfUwWQ1f6"
   },
   "source": [
    "# **DLIP Tutorial - PyTorch**\n",
    "# ResNet-50 Model\n",
    "Y.-K. Kim\n",
    "(updated 2024. 5. 14) \n",
    "\n",
    "===================\n",
    "\n",
    "The purpose of this tutorial is to make ResNet 50 model\n",
    "\n",
    "## For CoLab Usage:\n",
    "\n",
    "1. Download this notebook\n",
    "2. Then, open in Colab"
   ]
  },
  {
   "cell_type": "markdown",
   "metadata": {
    "id": "xab0AzXTQ62Y"
   },
   "source": [
    "# Setup Pytorch and Numpy and Device\n"
   ]
  },
  {
   "cell_type": "code",
   "execution_count": null,
   "metadata": {
    "ExecuteTime": {
     "end_time": "2024-05-14T13:09:28.424561Z",
     "start_time": "2024-05-14T13:09:26.120380Z"
    },
    "id": "a9hU4TNgQzAu"
   },
   "outputs": [],
   "source": [
    "import torch\n",
    "import torchvision\n",
    "import torchvision.transforms as transforms\n",
    "import numpy as np\n",
    "import torch.nn as nn\n",
    "import torch.nn.functional as F\n",
    "import torch.optim as optim\n",
    "import matplotlib.pyplot as plt"
   ]
  },
  {
   "cell_type": "code",
   "execution_count": null,
   "metadata": {
    "ExecuteTime": {
     "end_time": "2024-05-14T13:09:31.982866Z",
     "start_time": "2024-05-14T13:09:31.948866Z"
    },
    "colab": {
     "base_uri": "https://localhost:8080/"
    },
    "id": "fSlpzBkbSWn9",
    "outputId": "d7884142-101b-4d55-877a-513b1d8b4fb1"
   },
   "outputs": [],
   "source": [
    "# Get cpu or gpu device for training.\n",
    "device = \"cuda\" if torch.cuda.is_available() else \"cpu\"\n",
    "\n",
    "print(f\"Using {device} device\")\n",
    "if torch.cuda.is_available(): print(f'Device name: {torch.cuda.get_device_name(0)}') "
   ]
  },
  {
   "cell_type": "markdown",
   "metadata": {
    "id": "85aC7eEvRD2q"
   },
   "source": [
    "# Prepare Datasets: Input and Output"
   ]
  },
  {
   "cell_type": "markdown",
   "metadata": {
    "id": "AIAX4YhwSzac"
   },
   "source": [
    "We will not use dataset for training.  \n"
   ]
  },
  {
   "cell_type": "markdown",
   "metadata": {
    "id": "HS-4blG6Ugc5"
   },
   "source": [
    "# (Assignment) Define model - ResNet 50\n",
    "\n",
    "create a class that inherits from nn.Module\n",
    "\n",
    "\n",
    "* Define the layers of the network in  __init__ function\n",
    "* Specify Forward network in the **forward function.**\n",
    "* Activate Function: `ReLU`"
   ]
  },
  {
   "cell_type": "markdown",
   "metadata": {
    "id": "IdIlH3E2eRs7"
   },
   "source": [
    "\n",
    "![ResNet50_architecture](https://github.com/ykkimhgu/DLIP-src/assets/84508106/7bcd1af8-20b8-49f6-85f2-b29bf612286b)\n",
    "\n",
    "![image](https://github.com/ykkimhgu/DLIP-src/assets/84508106/c4a7350c-cfc9-4bdb-8864-e741f28fea12)\n",
    "\n",
    "#### Skip Connection\n",
    "![image](https://github.com/ykkimhgu/DLIP-src/assets/84508106/425af944-dc82-4d8b-b9a9-b7c0344b8e0f)\n"
   ]
  },
  {
   "cell_type": "code",
   "execution_count": null,
   "metadata": {
    "ExecuteTime": {
     "end_time": "2024-05-15T06:44:48.359693Z",
     "start_time": "2024-05-15T06:44:48.291166Z"
    }
   },
   "outputs": [],
   "source": [
    "import torch\n",
    "import torch.nn as nn\n",
    "\n",
    "# BasicBlock class defines the building block for ResNet\n",
    "class BasicBlock(nn.Module):\n",
    "    def __init__(self, in_channels, out_channels, downsampling=None, stride=1):\n",
    "        super().__init__()\n",
    "        self.expansion = 4  # Expansion ratio for ResNet-50, 101, 152\n",
    "        self.downsampling = downsampling\n",
    "        self.stride = stride\n",
    "        \n",
    "        ### conv(1x1) -> batch_norm -> relu -> conv(3x3) -> batch_norm -> relu -> conv(1x1) -> batch_norm -> downsampling(if needed) -> Add skip connection -> relu ###\n",
    "        \n",
    "        # ADD YOUR CODE HERE\n",
    "        # ADD YOUR CODE HERE\n",
    "        # ADD YOUR CODE HERE\n",
    "        \n",
    "\n",
    "    def forward(self, x):\n",
    "        # Clone input for the skip connection (using .clone())\n",
    "        # ADD YOUR CODE HERE\n",
    "        \n",
    "        # forward layer\n",
    "        # ADD YOUR CODE HERE\n",
    "        # ADD YOUR CODE HERE\n",
    "        # ADD YOUR CODE HERE\n",
    "        \n",
    "        # Down Sampling\n",
    "        # ADD YOUR CODE HERE\n",
    "        # ADD YOUR CODE HERE\n",
    "        \n",
    "        # Add skip connection & Apply ReLU activation\n",
    "        # ADD YOUR CODE HERE\n",
    "        # ADD YOUR CODE HERE\n",
    "        return x\n",
    "\n",
    "# ResNet class defines the entire ResNet-50 architecture\n",
    "class ResNet(nn.Module):\n",
    "    def __init__(self, block, layers, image_channels, num_classes):\n",
    "        super(ResNet, self).__init__()\n",
    "        self.in_channels = 64  # Initial input channels\n",
    "        self.expansion = 4  # Expansion ratio for ResNet-50, 101, 152\n",
    "        \n",
    "        # conv2d, batch_norm2d, relu, maxpool2d\n",
    "        # ADD YOUR CODE HERE\n",
    "        # ADD YOUR CODE HERE\n",
    "        # ADD YOUR CODE HERE\n",
    "\n",
    "        # The main layers of ResNet (using self._make_layer)\n",
    "        # ADD YOUR CODE HERE\n",
    "        # ADD YOUR CODE HERE\n",
    "        # ADD YOUR CODE HERE\n",
    "        \n",
    "        # Adaptive average pooling\n",
    "        # ADD YOUR CODE HERE\n",
    "        \n",
    "        # Fully connected layer\n",
    "        # ADD YOUR CODE HERE\n",
    "\n",
    "    def forward(self, x):\n",
    "        # First conv layer -> bn -> relu -> maxpooling\n",
    "        # ADD YOUR CODE HERE\n",
    "        # ADD YOUR CODE HERE\n",
    "        # ADD YOUR CODE HERE\n",
    "        \n",
    "        # Layer 1 ~ 4\n",
    "        # ADD YOUR CODE HERE\n",
    "        # ADD YOUR CODE HERE\n",
    "        # ADD YOUR CODE HERE\n",
    "        \n",
    "        # Adaptive average pooling\n",
    "        # ADD YOUR CODE HERE\n",
    "        \n",
    "        # Flatten\n",
    "        # ADD YOUR CODE HERE\n",
    "        \n",
    "        # Fully connected layer\n",
    "        # ADD YOUR CODE HERE\n",
    "\n",
    "        return x\n",
    "\n",
    "    # _make_layer method constructs the layers for ResNet\n",
    "    def _make_layer(self, block, num_residual_blocks, out_channels, stride):\n",
    "        downsampling = None\n",
    "        layers = []\n",
    "\n",
    "        # Downsample identity if we change input dimensions or channels\n",
    "        # ADD YOUR CODE HERE\n",
    "        # ADD YOUR CODE HERE\n",
    "        # ADD YOUR CODE HERE\n",
    "        \n",
    "        # append block layers\n",
    "        # ADD YOUR CODE HERE\n",
    "\n",
    "\n",
    "        # Expansion size is always 4 for ResNet-50, 101, 152 (e.g. 64 -> 256)\n",
    "        # ADD YOUR CODE HERE\n",
    "\n",
    "        # Add additional blocks\n",
    "        # ADD YOUR CODE HERE\n",
    "        # ADD YOUR CODE HERE\n",
    "\n",
    "        return nn.Sequential(*layers)\n",
    "\n",
    "# Function to create ResNet-50 model\n",
    "def ResNet50(img_channel=3, num_classes=1000):\n",
    "    return ResNet(BasicBlock, [3, 4, 6, 3], img_channel, num_classes)\n",
    "\n",
    "model = ResNet50()\n",
    "model = model.cuda()  # Move model to GPU\n",
    "print(model)\n"
   ]
  },
  {
   "cell_type": "markdown",
   "metadata": {
    "id": "7SPvx776gUcj"
   },
   "source": [
    "Check your model is valid by **summary()** function\n"
   ]
  },
  {
   "cell_type": "code",
   "execution_count": null,
   "metadata": {
    "ExecuteTime": {
     "end_time": "2024-05-15T06:54:40.964333Z",
     "start_time": "2024-05-15T06:54:40.572414Z"
    },
    "id": "KcNiG096gUAz"
   },
   "outputs": [],
   "source": [
    "from torchsummary import summary\n",
    "import torchvision.models as models\n",
    "model_resnet50 = models.resnet50(pretrained=True).cuda()\n",
    "\n",
    "summary(model_resnet50, (3,224,224))\n",
    "\n",
    "\n",
    "summary(model, (3, 224, 224))"
   ]
  }
 ],
 "metadata": {
  "colab": {
   "collapsed_sections": [],
   "include_colab_link": true,
   "name": "Tutorial_PyTorch_VGG16_CNN_Part3_1.ipynb",
   "provenance": []
  },
  "kernelspec": {
   "display_name": "Python 3 (ipykernel)",
   "language": "python",
   "name": "python3"
  },
  "language_info": {
   "codemirror_mode": {
    "name": "ipython",
    "version": 3
   },
   "file_extension": ".py",
   "mimetype": "text/x-python",
   "name": "python",
   "nbconvert_exporter": "python",
   "pygments_lexer": "ipython3",
   "version": "3.9.18"
  }
 },
 "nbformat": 4,
 "nbformat_minor": 0
}
