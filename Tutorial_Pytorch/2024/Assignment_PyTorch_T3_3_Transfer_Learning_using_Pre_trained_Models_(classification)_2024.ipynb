{
  "cells": [
    {
      "cell_type": "markdown",
      "metadata": {
        "colab_type": "text",
        "id": "view-in-github"
      },
      "source": [
        "<a href=\"https://colab.research.google.com/github/ykkimhgu/DLIP-src/blob/main/Tutorial_Pytorch/Assignment_PyTorch_T3_3_Transfer_Learning_using_Pre_trained_Models_(classification).ipynb\" target=\"_parent\"><img src=\"https://colab.research.google.com/assets/colab-badge.svg\" alt=\"Open In Colab\"/></a>"
      ]
    },
    {
      "cell_type": "markdown",
      "metadata": {
        "id": "jA6sxZvU0pU_"
      },
      "source": [
        "# **DLIP Tutorial - PyTorch**\n",
        "# Transfer Learning using Pre-trained Models (Classification) - Assignment\n",
        "\n",
        "Y.-K. Kim\n",
        "(updated 2022. 5. 10) \n",
        "\n",
        "===================\n",
        "\n",
        "Create a CNN model 'EfficientNet(efficientnet_b7)' and Train with Custom Dataset\n",
        "\n",
        "## For CoLab Usage:\n",
        "\n",
        "1. Download this notebook\n",
        "2. Then, open in Colab"
      ]
    },
    {
      "cell_type": "markdown",
      "metadata": {
        "id": "feUhurhuXLJn"
      },
      "source": [
        "# Environment Setup\n",
        "\n",
        "Download Python modules and image data. \n",
        "- [download modules](https://drive.google.com/file/d/1hjrWkcvBTiI-5yGtWPvsYVdaE7YLNWDo/view?usp=sharing)\n",
        "- [download dataset(cat/dog)](https://drive.google.com/file/d/1KYOAxXDIqp_hhE97WWQ_C8TeGFHWkxqG/view?usp=sharingg)\n"
      ]
    },
    {
      "cell_type": "code",
      "execution_count": null,
      "metadata": {
        "colab": {
          "base_uri": "https://localhost:8080/"
        },
        "id": "VkrQAZxK6_lL",
        "outputId": "7f74b59f-023a-4acf-b860-36d1193c8309"
      },
      "outputs": [],
      "source": [
        "import torch\n",
        "import torch.nn as nn\n",
        "import torch.nn.functional as F\n",
        "import torchvision\n",
        "import torchvision.transforms as transforms\n",
        "from torchvision import models\n",
        "import numpy as np\n",
        "import pandas as pd\n",
        "import matplotlib.pyplot as plt\n",
        "import seaborn as sns\n",
        "\n",
        "# from set_parameter_requires_grad import set_parameter_requires_grad\n",
        "from initialize_model import initialize_model\n",
        "from train import train\n",
        "from test import test\n",
        "\n",
        "# Get cpu or gpu device for training.\n",
        "device = \"cuda\" if torch.cuda.is_available() else \"cpu\"\n",
        "\n",
        "print(f\"Using {device} device\")\n",
        "if torch.cuda.is_available(): print(f'Device name: {torch.cuda.get_device_name(0)}') \n"
      ]
    },
    {
      "cell_type": "markdown",
      "metadata": {
        "id": "KuWFu1dRT9ME"
      },
      "source": [
        "# MODEL"
      ]
    },
    {
      "cell_type": "markdown",
      "metadata": {
        "id": "Xu7t3PHjw7S_"
      },
      "source": [
        "Basically, the classification models provided by torchvision are trained on ImageNet and consist of 1000 output layers.\n",
        "\n",
        "However, in the model for fine-tuning with other datasets, the number of output layers should be different depending on the class.\n",
        "\n",
        "Here, we use the initialize_model() function provided in the [pytorch tutorial](https://pytorch.org/tutorials/beginner/finetuning_torchvision_models_tutorial.html) to change the output stage of the model.\n",
        "\n",
        "initialize_model() is a function that helps to initialize the fine-tuning of some models.\n",
        "\n",
        "If the model is not in the function, the output layer information can be known by printing the model with the print() function."
      ]
    },
    {
      "cell_type": "code",
      "execution_count": null,
      "metadata": {
        "colab": {
          "base_uri": "https://localhost:8080/",
          "height": 1000,
          "referenced_widgets": [
            "fd100e25f956446fba94b12ea38816ed",
            "05c3215ac4334ddea5463f7492eb46d1",
            "750bc9d8c10b4189a6b2029138a4de7e",
            "cf20498c6ff74d4085a2a1407f3e1c1f",
            "de4d31b0ee834742bc648dcd71924ac0",
            "f12c84286982425bb247193ea32eee22",
            "e8e7e2b240d74fdebeaa59f3a3569797",
            "4d71f7d8661d4010bb7c6232307e6f95",
            "cd23b77033d8482e842ad4e5135a62b8",
            "c63980d93ffa491a81d37159b7a60901",
            "e6a3c0c41cfa4dc48572123e15fd3db4"
          ]
        },
        "id": "CfAzSQm_7e-3",
        "outputId": "a67487cc-f08a-49c9-e94d-ee2a47fbd75a"
      },
      "outputs": [],
      "source": [
        "# Models to choose from [resnet, alexnet, vgg, squeezenet, densenet, inception*]\n",
        "model_name = \"efficientnet_b7\"\n",
        "\n",
        "# Number of classes in the dataset\n",
        "num_classes = 2\n",
        "\n",
        "feature_extract = True   # True: only update the reshaped layer params, False: finetune the whole model, \n",
        "\n",
        "####################################################################\n",
        "### add your code for 'efficientnet_b7' in 'initialize_model.py' ###\n",
        "####################################################################\n",
        "\n",
        "model_ft, input_size = initialize_model(model_name, num_classes, feature_extract, use_pretrained=True)  \n",
        "model_ft = model_ft.to(device)\n",
        "\n",
        "from torchsummary import summary\n",
        "summary(model_ft, (3,input_size,input_size))"
      ]
    },
    {
      "cell_type": "markdown",
      "metadata": {
        "id": "WStHdh2KUBRC"
      },
      "source": [
        "# Prepare Datasets: kaggle cats and dogs"
      ]
    },
    {
      "cell_type": "markdown",
      "metadata": {
        "id": "aoncRrKA8vvX"
      },
      "source": [
        "**TO DO**\n",
        "\n",
        "download the kaggle cats and dogs dataset: [download link](https://www.microsoft.com/en-us/download/details.aspx?id=54765)"
      ]
    },
    {
      "cell_type": "code",
      "execution_count": null,
      "metadata": {
        "id": "FzP3uJH5JliT"
      },
      "outputs": [],
      "source": [
        "### ADD YOUR CODE HERE\n",
        "import shutil\n",
        "import os\n",
        "# unzip using shutil module .... (if necessary)"
      ]
    },
    {
      "cell_type": "markdown",
      "metadata": {
        "id": "Qo08bMfU2lEU"
      },
      "source": [
        "The images in the prepared dataset have different sizes. In order to be used as a learning model, the following process is required. (refer to part2)\n",
        "\n",
        "- Assign the images in the folder to training/test data for learning\n",
        "- Same pre-processing as ImageNet data for input of learning model"
      ]
    },
    {
      "cell_type": "code",
      "execution_count": null,
      "metadata": {
        "colab": {
          "base_uri": "https://localhost:8080/"
        },
        "id": "83UxwTIIV-0m",
        "outputId": "2691a7b5-6515-4794-8b96-b3f40f61efba"
      },
      "outputs": [],
      "source": [
        "# Top level data directory. Here we assume the format of the directory conforms \n",
        "#   to the ImageFolder structure\n",
        "\n",
        "### ADD YOUR CODE HERE\n",
        "\n",
        "# Data augmentation and normalization for training\n",
        "# Just normalization for validation\n",
        "\n",
        "### ADD YOUR CODE HERE"
      ]
    },
    {
      "cell_type": "markdown",
      "metadata": {
        "id": "wJR2fBj84oAA"
      },
      "source": [
        "Use DataLoader to make dataset iterable."
      ]
    },
    {
      "cell_type": "code",
      "execution_count": null,
      "metadata": {
        "colab": {
          "base_uri": "https://localhost:8080/"
        },
        "id": "DCHtaMbZUfDA",
        "outputId": "01ca3272-3445-4ef0-b962-91ffab3ab164"
      },
      "outputs": [],
      "source": [
        "### ADD YOUR CODE HERE"
      ]
    },
    {
      "cell_type": "markdown",
      "metadata": {
        "id": "jYEEjueXfVJI"
      },
      "source": [
        "# Optimization Setup"
      ]
    },
    {
      "cell_type": "markdown",
      "metadata": {
        "id": "QCLJEDUs40bd"
      },
      "source": [
        "### Optmizer function \n",
        " Gradient descent is the common optimisation strategy used in neural networks. Many of the variants and advanced optimisation functions now are available, \n",
        "  \n",
        "- Stochastic Gradient Descent, Adagrade, Adam, etc"
      ]
    },
    {
      "cell_type": "markdown",
      "metadata": {
        "id": "9RL7WCYp483c"
      },
      "source": [
        "### Loss function\n",
        "\n",
        "- Linear regression->Mean Squared Error\n",
        "- Classification->Cross entropy"
      ]
    },
    {
      "cell_type": "code",
      "execution_count": null,
      "metadata": {
        "id": "YFqXoS-YIL8I"
      },
      "outputs": [],
      "source": [
        "### ADD YOUR CODE HERE"
      ]
    },
    {
      "cell_type": "markdown",
      "metadata": {
        "id": "K4a5N0o7fXth"
      },
      "source": [
        "# Train and Test the model"
      ]
    },
    {
      "cell_type": "code",
      "execution_count": null,
      "metadata": {
        "id": "XHjrOqIJWSVK"
      },
      "outputs": [],
      "source": [
        "### ADD YOUR CODE HERE"
      ]
    },
    {
      "cell_type": "markdown",
      "metadata": {
        "id": "eegwkx0E5Psm"
      },
      "source": [
        "# Visualize test results\n",
        "\n",
        "Select random test images and evaluate"
      ]
    },
    {
      "cell_type": "code",
      "execution_count": null,
      "metadata": {
        "id": "opjyP_xXMAPe"
      },
      "outputs": [],
      "source": [
        "### ADD YOUR CODE HERE"
      ]
    },
    {
      "cell_type": "markdown",
      "metadata": {
        "id": "4823CRFyKTJC"
      },
      "source": [
        "Plot heatmap (confusion matrix)"
      ]
    },
    {
      "cell_type": "code",
      "execution_count": null,
      "metadata": {
        "id": "Z5dB7393NoVK"
      },
      "outputs": [],
      "source": [
        "### ADD YOUR CODE HERE"
      ]
    },
    {
      "cell_type": "markdown",
      "metadata": {
        "id": "adO8bmjm5UcV"
      },
      "source": [
        "# Saving Models\n",
        "* save the structure of this class together with the model"
      ]
    },
    {
      "cell_type": "code",
      "execution_count": null,
      "metadata": {
        "id": "Ren2lazx5WCo"
      },
      "outputs": [],
      "source": [
        "### ADD YOUR CODE HERE"
      ]
    }
  ],
  "metadata": {
    "colab": {
      "collapsed_sections": [],
      "include_colab_link": true,
      "name": "Assignment_PyTorch_T3-3_Transfer Learning using Pre-trained Models (classification).ipynb",
      "provenance": []
    },
    "kernelspec": {
      "display_name": "Python 3",
      "name": "python3"
    },
    "language_info": {
      "name": "python"
    },
    "widgets": {
      "application/vnd.jupyter.widget-state+json": {
        "05c3215ac4334ddea5463f7492eb46d1": {
          "model_module": "@jupyter-widgets/controls",
          "model_module_version": "1.5.0",
          "model_name": "HTMLModel",
          "state": {
            "_dom_classes": [],
            "_model_module": "@jupyter-widgets/controls",
            "_model_module_version": "1.5.0",
            "_model_name": "HTMLModel",
            "_view_count": null,
            "_view_module": "@jupyter-widgets/controls",
            "_view_module_version": "1.5.0",
            "_view_name": "HTMLView",
            "description": "",
            "description_tooltip": null,
            "layout": "IPY_MODEL_f12c84286982425bb247193ea32eee22",
            "placeholder": "​",
            "style": "IPY_MODEL_e8e7e2b240d74fdebeaa59f3a3569797",
            "value": "100%"
          }
        },
        "4d71f7d8661d4010bb7c6232307e6f95": {
          "model_module": "@jupyter-widgets/base",
          "model_module_version": "1.2.0",
          "model_name": "LayoutModel",
          "state": {
            "_model_module": "@jupyter-widgets/base",
            "_model_module_version": "1.2.0",
            "_model_name": "LayoutModel",
            "_view_count": null,
            "_view_module": "@jupyter-widgets/base",
            "_view_module_version": "1.2.0",
            "_view_name": "LayoutView",
            "align_content": null,
            "align_items": null,
            "align_self": null,
            "border": null,
            "bottom": null,
            "display": null,
            "flex": null,
            "flex_flow": null,
            "grid_area": null,
            "grid_auto_columns": null,
            "grid_auto_flow": null,
            "grid_auto_rows": null,
            "grid_column": null,
            "grid_gap": null,
            "grid_row": null,
            "grid_template_areas": null,
            "grid_template_columns": null,
            "grid_template_rows": null,
            "height": null,
            "justify_content": null,
            "justify_items": null,
            "left": null,
            "margin": null,
            "max_height": null,
            "max_width": null,
            "min_height": null,
            "min_width": null,
            "object_fit": null,
            "object_position": null,
            "order": null,
            "overflow": null,
            "overflow_x": null,
            "overflow_y": null,
            "padding": null,
            "right": null,
            "top": null,
            "visibility": null,
            "width": null
          }
        },
        "750bc9d8c10b4189a6b2029138a4de7e": {
          "model_module": "@jupyter-widgets/controls",
          "model_module_version": "1.5.0",
          "model_name": "FloatProgressModel",
          "state": {
            "_dom_classes": [],
            "_model_module": "@jupyter-widgets/controls",
            "_model_module_version": "1.5.0",
            "_model_name": "FloatProgressModel",
            "_view_count": null,
            "_view_module": "@jupyter-widgets/controls",
            "_view_module_version": "1.5.0",
            "_view_name": "ProgressView",
            "bar_style": "success",
            "description": "",
            "description_tooltip": null,
            "layout": "IPY_MODEL_4d71f7d8661d4010bb7c6232307e6f95",
            "max": 46830571,
            "min": 0,
            "orientation": "horizontal",
            "style": "IPY_MODEL_cd23b77033d8482e842ad4e5135a62b8",
            "value": 46830571
          }
        },
        "c63980d93ffa491a81d37159b7a60901": {
          "model_module": "@jupyter-widgets/base",
          "model_module_version": "1.2.0",
          "model_name": "LayoutModel",
          "state": {
            "_model_module": "@jupyter-widgets/base",
            "_model_module_version": "1.2.0",
            "_model_name": "LayoutModel",
            "_view_count": null,
            "_view_module": "@jupyter-widgets/base",
            "_view_module_version": "1.2.0",
            "_view_name": "LayoutView",
            "align_content": null,
            "align_items": null,
            "align_self": null,
            "border": null,
            "bottom": null,
            "display": null,
            "flex": null,
            "flex_flow": null,
            "grid_area": null,
            "grid_auto_columns": null,
            "grid_auto_flow": null,
            "grid_auto_rows": null,
            "grid_column": null,
            "grid_gap": null,
            "grid_row": null,
            "grid_template_areas": null,
            "grid_template_columns": null,
            "grid_template_rows": null,
            "height": null,
            "justify_content": null,
            "justify_items": null,
            "left": null,
            "margin": null,
            "max_height": null,
            "max_width": null,
            "min_height": null,
            "min_width": null,
            "object_fit": null,
            "object_position": null,
            "order": null,
            "overflow": null,
            "overflow_x": null,
            "overflow_y": null,
            "padding": null,
            "right": null,
            "top": null,
            "visibility": null,
            "width": null
          }
        },
        "cd23b77033d8482e842ad4e5135a62b8": {
          "model_module": "@jupyter-widgets/controls",
          "model_module_version": "1.5.0",
          "model_name": "ProgressStyleModel",
          "state": {
            "_model_module": "@jupyter-widgets/controls",
            "_model_module_version": "1.5.0",
            "_model_name": "ProgressStyleModel",
            "_view_count": null,
            "_view_module": "@jupyter-widgets/base",
            "_view_module_version": "1.2.0",
            "_view_name": "StyleView",
            "bar_color": null,
            "description_width": ""
          }
        },
        "cf20498c6ff74d4085a2a1407f3e1c1f": {
          "model_module": "@jupyter-widgets/controls",
          "model_module_version": "1.5.0",
          "model_name": "HTMLModel",
          "state": {
            "_dom_classes": [],
            "_model_module": "@jupyter-widgets/controls",
            "_model_module_version": "1.5.0",
            "_model_name": "HTMLModel",
            "_view_count": null,
            "_view_module": "@jupyter-widgets/controls",
            "_view_module_version": "1.5.0",
            "_view_name": "HTMLView",
            "description": "",
            "description_tooltip": null,
            "layout": "IPY_MODEL_c63980d93ffa491a81d37159b7a60901",
            "placeholder": "​",
            "style": "IPY_MODEL_e6a3c0c41cfa4dc48572123e15fd3db4",
            "value": " 44.7M/44.7M [00:01&lt;00:00, 38.6MB/s]"
          }
        },
        "de4d31b0ee834742bc648dcd71924ac0": {
          "model_module": "@jupyter-widgets/base",
          "model_module_version": "1.2.0",
          "model_name": "LayoutModel",
          "state": {
            "_model_module": "@jupyter-widgets/base",
            "_model_module_version": "1.2.0",
            "_model_name": "LayoutModel",
            "_view_count": null,
            "_view_module": "@jupyter-widgets/base",
            "_view_module_version": "1.2.0",
            "_view_name": "LayoutView",
            "align_content": null,
            "align_items": null,
            "align_self": null,
            "border": null,
            "bottom": null,
            "display": null,
            "flex": null,
            "flex_flow": null,
            "grid_area": null,
            "grid_auto_columns": null,
            "grid_auto_flow": null,
            "grid_auto_rows": null,
            "grid_column": null,
            "grid_gap": null,
            "grid_row": null,
            "grid_template_areas": null,
            "grid_template_columns": null,
            "grid_template_rows": null,
            "height": null,
            "justify_content": null,
            "justify_items": null,
            "left": null,
            "margin": null,
            "max_height": null,
            "max_width": null,
            "min_height": null,
            "min_width": null,
            "object_fit": null,
            "object_position": null,
            "order": null,
            "overflow": null,
            "overflow_x": null,
            "overflow_y": null,
            "padding": null,
            "right": null,
            "top": null,
            "visibility": null,
            "width": null
          }
        },
        "e6a3c0c41cfa4dc48572123e15fd3db4": {
          "model_module": "@jupyter-widgets/controls",
          "model_module_version": "1.5.0",
          "model_name": "DescriptionStyleModel",
          "state": {
            "_model_module": "@jupyter-widgets/controls",
            "_model_module_version": "1.5.0",
            "_model_name": "DescriptionStyleModel",
            "_view_count": null,
            "_view_module": "@jupyter-widgets/base",
            "_view_module_version": "1.2.0",
            "_view_name": "StyleView",
            "description_width": ""
          }
        },
        "e8e7e2b240d74fdebeaa59f3a3569797": {
          "model_module": "@jupyter-widgets/controls",
          "model_module_version": "1.5.0",
          "model_name": "DescriptionStyleModel",
          "state": {
            "_model_module": "@jupyter-widgets/controls",
            "_model_module_version": "1.5.0",
            "_model_name": "DescriptionStyleModel",
            "_view_count": null,
            "_view_module": "@jupyter-widgets/base",
            "_view_module_version": "1.2.0",
            "_view_name": "StyleView",
            "description_width": ""
          }
        },
        "f12c84286982425bb247193ea32eee22": {
          "model_module": "@jupyter-widgets/base",
          "model_module_version": "1.2.0",
          "model_name": "LayoutModel",
          "state": {
            "_model_module": "@jupyter-widgets/base",
            "_model_module_version": "1.2.0",
            "_model_name": "LayoutModel",
            "_view_count": null,
            "_view_module": "@jupyter-widgets/base",
            "_view_module_version": "1.2.0",
            "_view_name": "LayoutView",
            "align_content": null,
            "align_items": null,
            "align_self": null,
            "border": null,
            "bottom": null,
            "display": null,
            "flex": null,
            "flex_flow": null,
            "grid_area": null,
            "grid_auto_columns": null,
            "grid_auto_flow": null,
            "grid_auto_rows": null,
            "grid_column": null,
            "grid_gap": null,
            "grid_row": null,
            "grid_template_areas": null,
            "grid_template_columns": null,
            "grid_template_rows": null,
            "height": null,
            "justify_content": null,
            "justify_items": null,
            "left": null,
            "margin": null,
            "max_height": null,
            "max_width": null,
            "min_height": null,
            "min_width": null,
            "object_fit": null,
            "object_position": null,
            "order": null,
            "overflow": null,
            "overflow_x": null,
            "overflow_y": null,
            "padding": null,
            "right": null,
            "top": null,
            "visibility": null,
            "width": null
          }
        },
        "fd100e25f956446fba94b12ea38816ed": {
          "model_module": "@jupyter-widgets/controls",
          "model_module_version": "1.5.0",
          "model_name": "HBoxModel",
          "state": {
            "_dom_classes": [],
            "_model_module": "@jupyter-widgets/controls",
            "_model_module_version": "1.5.0",
            "_model_name": "HBoxModel",
            "_view_count": null,
            "_view_module": "@jupyter-widgets/controls",
            "_view_module_version": "1.5.0",
            "_view_name": "HBoxView",
            "box_style": "",
            "children": [
              "IPY_MODEL_05c3215ac4334ddea5463f7492eb46d1",
              "IPY_MODEL_750bc9d8c10b4189a6b2029138a4de7e",
              "IPY_MODEL_cf20498c6ff74d4085a2a1407f3e1c1f"
            ],
            "layout": "IPY_MODEL_de4d31b0ee834742bc648dcd71924ac0"
          }
        }
      }
    }
  },
  "nbformat": 4,
  "nbformat_minor": 0
}
