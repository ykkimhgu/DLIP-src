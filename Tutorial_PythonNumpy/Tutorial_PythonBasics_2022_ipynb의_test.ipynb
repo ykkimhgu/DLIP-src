{
  "nbformat": 4,
  "nbformat_minor": 0,
  "metadata": {
    "colab": {
      "provenance": [],
      "include_colab_link": true
    },
    "kernelspec": {
      "name": "python3",
      "display_name": "Python 3"
    },
    "language_info": {
      "name": "python"
    }
  },
  "cells": [
    {
      "cell_type": "markdown",
      "metadata": {
        "id": "view-in-github",
        "colab_type": "text"
      },
      "source": [
        "<a href=\"https://colab.research.google.com/github/ykkimhgu/DLIP-src/blob/main/Tutorial_PythonNumpy/Tutorial_PythonBasics_2022_ipynb%EC%9D%98_test.ipynb\" target=\"_parent\"><img src=\"https://colab.research.google.com/assets/colab-badge.svg\" alt=\"Open In Colab\"/></a>"
      ]
    },
    {
      "cell_type": "markdown",
      "metadata": {
        "id": "LnTAQlDLYfY_"
      },
      "source": [
        "# Python Basics \n",
        "*Learning Python in 60 minutes by Y.-K. Kim*\n",
        "\n",
        "> Mod. 2022-4-11\n",
        "\n",
        "We will use the Python and Numpy for Deep Learning assignments in this course. \n",
        "\n",
        "Python is a great general-purpose programming language on its own, but with the help of a few popular libraries (numpy, scipy, matplotlib) it becomes a powerful environment for scientific computing.\n",
        "\n",
        "This tutorial is created from various references of\n",
        "\n",
        "1.   Python Numpy Tutorial by CS231n : https://cs231n.github.io\n",
        "2.   python-numpy-tutorial: https://www.w3schools.com/python/\n",
        "3. A Crash Course in Python for Scientists by  Rick Muller:  https://nbviewer.jupyter.org/gist/rpmuller/5920182#ii.-numpy-and-scipy\n",
        "\n",
        "\n",
        "\n"
      ]
    }
  ]
}