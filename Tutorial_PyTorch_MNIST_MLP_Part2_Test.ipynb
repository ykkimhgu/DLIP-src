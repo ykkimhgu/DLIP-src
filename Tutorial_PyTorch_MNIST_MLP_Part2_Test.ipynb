{
 "cells": [
  {
   "cell_type": "markdown",
   "metadata": {
    "colab_type": "text",
    "id": "view-in-github"
   },
   "source": [
    "<a href=\"https://colab.research.google.com/github/ykkimhgu/DLIP-src/blob/main/Tutorial_PyTorch_MNIST_MLP_Part2_Test.ipynb\" target=\"_parent\"><img src=\"https://colab.research.google.com/assets/colab-badge.svg\" alt=\"Open In Colab\"/></a>"
   ]
  },
  {
   "cell_type": "markdown",
   "metadata": {
    "id": "AGiUum65WY_k"
   },
   "source": [
    "# **DLIP Tutorial - PyTorch**\n",
    "\n",
    "## MNIST Classification using PyTorch - Part 2\n",
    "Y.-K. Kim\n",
    "(created 2021. 5. 3) \n",
    "(updated 2024. 4. 29) \n",
    "\n",
    "===================\n",
    "\n",
    "The purpose of this tutorial is to learn how to build a simple Multi-Layer Percentron (MLP or ANN) for classification of handwritting digits (MNIST)\n",
    "\n",
    "You must do: **Tutorial_PyTorch_MNIST_MLP_Part1**  before this tutorial\n",
    "\n",
    "* Part 1:  Build a MLP model and Train \n",
    "* Part 2:  Load Pretrained MLP model and Test "
   ]
  },
  {
   "cell_type": "markdown",
   "metadata": {
    "id": "3lHqSoDaeUSs"
   },
   "source": [
    "## Setup Pytorch and Numpy and GPU"
   ]
  },
  {
   "cell_type": "code",
   "execution_count": 38,
   "metadata": {
    "ExecuteTime": {
     "end_time": "2024-04-29T06:26:42.828274Z",
     "start_time": "2024-04-29T06:26:41.261224Z"
    },
    "colab": {
     "base_uri": "https://localhost:8080/"
    },
    "id": "y228XLuj1215",
    "outputId": "d7b43667-8563-40b6-c540-f45c062c9fd0"
   },
   "outputs": [
    {
     "name": "stdout",
     "output_type": "stream",
     "text": [
      "2.1.2\n"
     ]
    }
   ],
   "source": [
    "import torch \n",
    "import torch.nn as nn\n",
    "import torch.nn.functional as F\n",
    "import torchvision\n",
    "import torchvision.transforms as transforms\n",
    "print(torch.__version__)\n",
    "import numpy as np "
   ]
  },
  {
   "cell_type": "code",
   "execution_count": 39,
   "metadata": {
    "ExecuteTime": {
     "end_time": "2024-04-29T06:26:45.085438Z",
     "start_time": "2024-04-29T06:26:45.046437Z"
    },
    "colab": {
     "base_uri": "https://localhost:8080/"
    },
    "id": "shdSXuyuE1rJ",
    "outputId": "99bbcc3f-1a42-496a-8ab4-19d8f7ce9801"
   },
   "outputs": [
    {
     "name": "stdout",
     "output_type": "stream",
     "text": [
      "Using cuda device\n"
     ]
    }
   ],
   "source": [
    "# Get cpu or gpu device for training.\n",
    "device = \"cuda\" if torch.cuda.is_available() else \"cpu\"\n",
    "print(f\"Using {device} device\")"
   ]
  },
  {
   "cell_type": "markdown",
   "metadata": {
    "id": "blEBaK0ugMUS"
   },
   "source": [
    "## Prepare Datasets\n",
    "### OpenDataset from TorchVision"
   ]
  },
  {
   "cell_type": "markdown",
   "metadata": {
    "id": "y0odtPtd2bzl"
   },
   "source": [
    "\n",
    "1. Loading OpenDataset (Fashion MNIST) from Pytorch data\n",
    "* ``Dataset``:  stores the samples and their corresponding labels\n",
    "* ``DataLoader`` wraps an iterable around the ``Dataset``.\n"
   ]
  },
  {
   "cell_type": "code",
   "execution_count": 40,
   "metadata": {
    "ExecuteTime": {
     "end_time": "2024-04-29T06:26:46.811911Z",
     "start_time": "2024-04-29T06:26:46.807902Z"
    },
    "id": "Syszi5NQ2bzm"
   },
   "outputs": [],
   "source": [
    "from torch.utils.data import DataLoader\n",
    "from torchvision import datasets\n",
    "from torchvision.transforms import ToTensor\n"
   ]
  },
  {
   "cell_type": "code",
   "execution_count": 41,
   "metadata": {
    "ExecuteTime": {
     "end_time": "2024-04-29T06:26:49.264326Z",
     "start_time": "2024-04-29T06:26:49.214876Z"
    },
    "id": "r8PiOEFx2bzn"
   },
   "outputs": [],
   "source": [
    "# Download training data from open datasets.\n",
    "training_data = datasets.MNIST(\n",
    "    root=\"data\",\n",
    "    train=True,\n",
    "    download=True,\n",
    "    transform=ToTensor(),   #converts 0~255 value to 0~1 value.\n",
    ")\n",
    "\n",
    "# Download test data from open datasets.\n",
    "test_data = datasets.MNIST(\n",
    "    root=\"data\",\n",
    "    train=False,\n",
    "    download=True,\n",
    "    transform=ToTensor(),\n",
    ")"
   ]
  },
  {
   "cell_type": "markdown",
   "metadata": {
    "id": "Uel8Ptvr2bzo"
   },
   "source": [
    "2. Use  ``DataLoader`` to  make dataset iterable.\n",
    "* supports automatic batching, sampling, shuffling and multiprocess data loading. \n",
    "\n"
   ]
  },
  {
   "cell_type": "code",
   "execution_count": 42,
   "metadata": {
    "ExecuteTime": {
     "end_time": "2024-04-29T06:26:51.372441Z",
     "start_time": "2024-04-29T06:26:51.356514Z"
    },
    "colab": {
     "base_uri": "https://localhost:8080/"
    },
    "id": "zdFdt1pe2bzo",
    "outputId": "6ca73391-5afd-49ec-c5d7-1459e9d0c049"
   },
   "outputs": [
    {
     "name": "stdout",
     "output_type": "stream",
     "text": [
      "Shape of X [N, C, H, W]: torch.Size([64, 1, 28, 28])\n",
      "Shape of y: torch.Size([64]) torch.int64\n"
     ]
    }
   ],
   "source": [
    "batch_size = 64\n",
    "\n",
    "# Create data loaders.\n",
    "train_dataloader = DataLoader(training_data, batch_size=batch_size)\n",
    "test_dataloader = DataLoader(test_data, batch_size=batch_size)\n",
    "\n",
    "for X, y in test_dataloader:\n",
    "    print(f\"Shape of X [N, C, H, W]: {X.shape}\")\n",
    "    print(f\"Shape of y: {y.shape} {y.dtype}\")\n",
    "    break"
   ]
  },
  {
   "cell_type": "markdown",
   "metadata": {
    "id": "QQ7CqtrmG0mp"
   },
   "source": [
    "3. Plot some training data\n"
   ]
  },
  {
   "cell_type": "code",
   "execution_count": 43,
   "metadata": {
    "ExecuteTime": {
     "end_time": "2024-04-29T06:27:06.871981Z",
     "start_time": "2024-04-29T06:27:06.665784Z"
    },
    "colab": {
     "base_uri": "https://localhost:8080/",
     "height": 264
    },
    "id": "ccpGGs8dG4dR",
    "outputId": "cf3044fa-ff1d-4c41-d981-80ab50a8c216"
   },
   "outputs": [
    {
     "data": {
      "image/png": "[encoded data removed]",
      "text/plain": [
       "<Figure size 640x480 with 9 Axes>"
      ]
     },
     "metadata": {},
     "output_type": "display_data"
    }
   ],
   "source": [
    "import matplotlib.pyplot as plt\n",
    "\n",
    "dataiter = iter(train_dataloader)\n",
    "images, labels = next(dataiter)\n",
    "\n",
    "figure = plt.figure()\n",
    "num_of_images = 9\n",
    "for index in range(num_of_images):\n",
    "    plt.subplot(3, 3, index+1)\n",
    "    plt.axis('off')    \n",
    "    plt.title(\"Ground Truth: {}\".format(labels[index]))\n",
    "    plt.imshow(images[index].numpy().squeeze(), cmap='gray_r')"
   ]
  },
  {
   "cell_type": "markdown",
   "metadata": {
    "id": "slHZqHyYFZ7p"
   },
   "source": [
    "# Load Pre-Trained model\n",
    "\n",
    "\n",
    "1. Upload file \" MNIST_model.pth \"  to drive\n",
    "* MNIST_model.pth from Tutorial Part 1\n",
    "\n",
    "![image](https://user-images.githubusercontent.com/38373000/154288534-eff8ab61-fba8-47e0-9a78-c9c2f3145192.png)\n",
    "\n",
    "### Load the pretrained model\n",
    "\n",
    "(Option 1) Loading a model with structures \n",
    "\n"
   ]
  },
  {
   "cell_type": "code",
   "execution_count": 44,
   "metadata": {
    "ExecuteTime": {
     "end_time": "2024-04-29T06:28:42.534022Z",
     "start_time": "2024-04-29T06:28:42.499372Z"
    },
    "colab": {
     "base_uri": "https://localhost:8080/"
    },
    "id": "Bo1oKxEeYGIJ",
    "outputId": "c7da62c2-8941-4bc1-f356-a475fc4dde0e"
   },
   "outputs": [
    {
     "data": {
      "text/plain": [
       "MLP(\n",
       "  (flatten): Flatten(start_dim=1, end_dim=-1)\n",
       "  (linear1): Linear(in_features=784, out_features=250, bias=True)\n",
       "  (linear2): Linear(in_features=250, out_features=100, bias=True)\n",
       "  (linear3): Linear(in_features=100, out_features=10, bias=True)\n",
       ")"
      ]
     },
     "execution_count": 44,
     "metadata": {},
     "output_type": "execute_result"
    }
   ],
   "source": [
    "model=torch.load(\"MNIST_model.pth\")\n",
    "model.eval()"
   ]
  },
  {
   "cell_type": "markdown",
   "metadata": {
    "id": "oygicb0XhWXZ"
   },
   "source": [
    "(Option 2) Loading a model includes re-creating the model structure and loading the state dictionary into it.\n",
    "\n",
    "* Need to `import` or define the Network Structure"
   ]
  },
  {
   "cell_type": "code",
   "execution_count": 50,
   "metadata": {
    "id": "MABqSmvweObS"
   },
   "outputs": [],
   "source": [
    "class MLP(nn.Module):\n",
    "    def __init__(self):\n",
    "        super(MLP, self).__init__()\n",
    "        self.flatten = nn.Flatten()\n",
    "        self.linear1 = nn.Linear(28*28, 250)\n",
    "        self.linear2 = nn.Linear(250, 100)\n",
    "        self.linear3 = nn.Linear(100, 10)\n",
    "\n",
    "        \n",
    "    def forward(self, x):\n",
    "        x=self.flatten(x)\n",
    "        x= F.relu(self.linear1(x))\n",
    "        x = F.relu(self.linear2(x))\n",
    "        y_pred = F.log_softmax(self.linear3(x))\n",
    "        return y_pred\n",
    "\n",
    "\n"
   ]
  },
  {
   "cell_type": "code",
   "execution_count": 51,
   "metadata": {
    "colab": {
     "base_uri": "https://localhost:8080/"
    },
    "id": "3l3ViL5_dVPC",
    "outputId": "764b1446-fc73-47f9-a6e4-19fae130b5c8"
   },
   "outputs": [
    {
     "name": "stdout",
     "output_type": "stream",
     "text": [
      "MLP(\n",
      "  (flatten): Flatten(start_dim=1, end_dim=-1)\n",
      "  (linear1): Linear(in_features=784, out_features=250, bias=True)\n",
      "  (linear2): Linear(in_features=250, out_features=100, bias=True)\n",
      "  (linear3): Linear(in_features=100, out_features=10, bias=True)\n",
      ")\n"
     ]
    },
    {
     "data": {
      "text/plain": [
       "MLP(\n",
       "  (flatten): Flatten(start_dim=1, end_dim=-1)\n",
       "  (linear1): Linear(in_features=784, out_features=250, bias=True)\n",
       "  (linear2): Linear(in_features=250, out_features=100, bias=True)\n",
       "  (linear3): Linear(in_features=100, out_features=10, bias=True)\n",
       ")"
      ]
     },
     "execution_count": 51,
     "metadata": {},
     "output_type": "execute_result"
    }
   ],
   "source": [
    "model2 = MLP().to(device)\n",
    "print(model2)\n",
    "model2.load_state_dict(torch.load('MNIST_model2.pth'))\n",
    "model2.eval()\n"
   ]
  },
  {
   "cell_type": "markdown",
   "metadata": {
    "id": "T9JJWT1A8zvX"
   },
   "source": [
    "# Test the model \n",
    "\n",
    "### Define **test()** function \n",
    "Using ``eval()`` for test. Evaluate mode로 전환.\n",
    "\n",
    "This function can be reused in other tutorials"
   ]
  },
  {
   "cell_type": "code",
   "execution_count": 52,
   "metadata": {
    "id": "xvmC5oFs72SC"
   },
   "outputs": [],
   "source": [
    "def test(dataloader, model, loss_fn):\n",
    "    size = len(dataloader.dataset)\n",
    "    num_batches = len(dataloader)\n",
    "    model.eval()\n",
    "    test_loss, correct = 0, 0\n",
    "    with torch.no_grad():\n",
    "        for X, y in dataloader:\n",
    "            X, y = X.to(device), y.to(device)\n",
    "            pred = model(X)\n",
    "            test_loss += loss_fn(pred, y).item()\n",
    "            correct += (pred.argmax(1) == y).type(torch.float).sum().item()\n",
    "    test_loss /= num_batches\n",
    "    correct /= size\n",
    "    print(f\"Test Error: \\n Accuracy: {(100*correct):>0.1f}%, Avg loss: {test_loss:>8f} \\n\")"
   ]
  },
  {
   "cell_type": "markdown",
   "metadata": {},
   "source": [
    "### Loss function\n",
    "\n",
    "1. Linear regression->Mean Squared Error\n",
    "2. Classification->Cross entropy,"
   ]
  },
  {
   "cell_type": "code",
   "execution_count": 53,
   "metadata": {},
   "outputs": [],
   "source": [
    "loss_fn = nn.CrossEntropyLoss()\n",
    "optimizer = torch.optim.SGD(model.parameters(), lr=1e-3)"
   ]
  },
  {
   "cell_type": "markdown",
   "metadata": {
    "id": "Lc_uKTg685fR"
   },
   "source": [
    "### Test \n",
    "Print test data accuracy "
   ]
  },
  {
   "cell_type": "code",
   "execution_count": 54,
   "metadata": {
    "id": "3AyUVhP58U4W"
   },
   "outputs": [
    {
     "name": "stdout",
     "output_type": "stream",
     "text": [
      "Epoch 1\n",
      "-------------------------------\n"
     ]
    },
    {
     "name": "stderr",
     "output_type": "stream",
     "text": [
      "C:\\Users\\ckdal\\AppData\\Local\\Temp\\ipykernel_42572\\3980131134.py:14: UserWarning: Implicit dimension choice for log_softmax has been deprecated. Change the call to include dim=X as an argument.\n",
      "  y_pred = F.log_softmax(self.linear3(x))\n"
     ]
    },
    {
     "name": "stdout",
     "output_type": "stream",
     "text": [
      "Test Error: \n",
      " Accuracy: 37.3%, Avg loss: 2.220719 \n",
      "\n",
      "Epoch 2\n",
      "-------------------------------\n",
      "Test Error: \n",
      " Accuracy: 37.3%, Avg loss: 2.220719 \n",
      "\n",
      "Done!\n"
     ]
    }
   ],
   "source": [
    "epochs = 2\n",
    "for t in range(epochs):\n",
    "    print(f\"Epoch {t+1}\\n-------------------------------\")\n",
    "    test(test_dataloader, model, loss_fn)\n",
    "print(\"Done!\")"
   ]
  },
  {
   "cell_type": "markdown",
   "metadata": {
    "id": "7reJNX_fMgwG"
   },
   "source": [
    "### Visualize test results\n",
    "\n",
    "Select random test images and evaluate"
   ]
  },
  {
   "cell_type": "code",
   "execution_count": 55,
   "metadata": {
    "id": "zpVhWXBYMlYh"
   },
   "outputs": [
    {
     "name": "stdout",
     "output_type": "stream",
     "text": [
      "torch.Size([64, 1, 28, 28])\n"
     ]
    },
    {
     "name": "stderr",
     "output_type": "stream",
     "text": [
      "C:\\Users\\ckdal\\AppData\\Local\\Temp\\ipykernel_42572\\3980131134.py:14: UserWarning: Implicit dimension choice for log_softmax has been deprecated. Change the call to include dim=X as an argument.\n",
      "  y_pred = F.log_softmax(self.linear3(x))\n"
     ]
    }
   ],
   "source": [
    "# Get some random test  images // BatchSize at a time\n",
    "dataiter = iter(test_dataloader)\n",
    "images, labels = next(dataiter)\n",
    "print(images.size())\n",
    "\n",
    "\n",
    "# Evaluate mode로 전환\n",
    "# Prediction of some sample images \n",
    "with torch.no_grad():\n",
    "  for X, y in dataiter:\n",
    "      X, y = X.to(device), y.to(device)\n",
    "      pred = model(X)\n",
    "      _, predicted = torch.max(pred.data, 1)\n"
   ]
  },
  {
   "cell_type": "markdown",
   "metadata": {
    "id": "J8Lnx8mKRo_c"
   },
   "source": [
    "Plot some test image results"
   ]
  },
  {
   "cell_type": "code",
   "execution_count": 56,
   "metadata": {
    "id": "PUfby6DlRoXW"
   },
   "outputs": [
    {
     "data": {
      "image/png": "[encoded data removed]",
      "text/plain": [
       "<Figure size 640x480 with 9 Axes>"
      ]
     },
     "metadata": {},
     "output_type": "display_data"
    }
   ],
   "source": [
    "figure = plt.figure()\n",
    "num_of_images = 9\n",
    "for index in range(num_of_images):\n",
    "    plt.subplot(3, 3, index+1)\n",
    "    plt.axis('off')    \n",
    "    plt.title(\"Predicted: {}\".format(predicted[index].item()))\n",
    "    plt.imshow(images[index].cpu().numpy().squeeze(), cmap='gray_r')"
   ]
  },
  {
   "cell_type": "markdown",
   "metadata": {
    "id": "tTpn1MJf3AmL"
   },
   "source": [
    "# Exercise\n"
   ]
  },
  {
   "cell_type": "markdown",
   "metadata": {
    "id": "t1Qm0OYV25w7"
   },
   "source": [
    "## Exercise 1\n",
    "Rewrite  the above MLP model as the following. \n",
    "\n",
    "![](https://raw.githubusercontent.com/dmlc/web-data/master/mxnet/image/mlp_mnist.png)\n"
   ]
  },
  {
   "cell_type": "markdown",
   "metadata": {
    "id": "yCmZZ0XT3Ivj"
   },
   "source": [
    "\n",
    "## Exercise 2\n",
    "Plot Confusion Matrix for Test Dataset\n",
    "\n",
    "See for  `from sklearn import metrics` and ` metrics.confusion_matrix`"
   ]
  }
 ],
 "metadata": {
  "colab": {
   "authorship_tag": "ABX9TyOzy029cTMzzPtXYGe72xVu",
   "include_colab_link": true,
   "name": "Tutorial_PyTorch_MNIST_MLP_Part2_Test.ipynb",
   "provenance": []
  },
  "kernelspec": {
   "display_name": "Python 3 (ipykernel)",
   "language": "python",
   "name": "python3"
  },
  "language_info": {
   "codemirror_mode": {
    "name": "ipython",
    "version": 3
   },
   "file_extension": ".py",
   "mimetype": "text/x-python",
   "name": "python",
   "nbconvert_exporter": "python",
   "pygments_lexer": "ipython3",
   "version": "3.9.18"
  }
 },
 "nbformat": 4,
 "nbformat_minor": 0
}
