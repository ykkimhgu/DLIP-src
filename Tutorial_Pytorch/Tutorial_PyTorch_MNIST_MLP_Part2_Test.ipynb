{
  "nbformat": 4,
  "nbformat_minor": 0,
  "metadata": {
    "colab": {
      "name": "Tutorial_PyTorch_MNIST_MLP_Part2_Test.ipynb",
      "provenance": [],
      "authorship_tag": "ABX9TyOzy029cTMzzPtXYGe72xVu",
      "include_colab_link": true
    },
    "kernelspec": {
      "name": "python3",
      "display_name": "Python 3"
    },
    "language_info": {
      "name": "python"
    }
  },
  "cells": [
    {
      "cell_type": "markdown",
      "metadata": {
        "id": "view-in-github",
        "colab_type": "text"
      },
      "source": [
        "<a href=\"https://colab.research.google.com/github/ykkimhgu/DLIP-src/blob/main/Tutorial_Pytorch/Tutorial_PyTorch_MNIST_MLP_Part2_Test.ipynb\" target=\"_parent\"><img src=\"https://colab.research.google.com/assets/colab-badge.svg\" alt=\"Open In Colab\"/></a>"
      ]
    },
    {
      "cell_type": "markdown",
      "source": [
        "# **DLIP Tutorial - PyTorch**\n",
        "\n",
        "## MNIST Classification using PyTorch - Part 2\n",
        "Y.-K. Kim\n",
        "(created 2021. 5. 3) \n",
        "(updated 2022. 2. 15) \n",
        "\n",
        "===================\n",
        "\n",
        "The purpose of this tutorial is to learn how to build a simple Multi-Layer Percentron (MLP or ANN) for classification of handwritting digits (MNIST)\n",
        "\n",
        "You must do: **Tutorial_PyTorch_MNIST_MLP_Part1**  before this tutorial\n",
        "\n",
        "* Part 1:  Build a MLP model and Train \n",
        "* Part 2:  Load Pretrained MLP model and Test "
      ],
      "metadata": {
        "id": "AGiUum65WY_k"
      }
    },
    {
      "cell_type": "markdown",
      "metadata": {
        "id": "3lHqSoDaeUSs"
      },
      "source": [
        "## Setup Pytorch and Numpy and GPU"
      ]
    },
    {
      "cell_type": "code",
      "source": [
        "import torch \n",
        "import torch.nn as nn\n",
        "import torch.nn.functional as F\n",
        "import torchvision\n",
        "import torchvision.transforms as transforms\n",
        "print(torch.__version__)\n",
        "import numpy as np "
      ],
      "metadata": {
        "colab": {
          "base_uri": "https://localhost:8080/"
        },
        "id": "y228XLuj1215",
        "outputId": "d7b43667-8563-40b6-c540-f45c062c9fd0"
      },
      "execution_count": null,
      "outputs": [
        {
          "output_type": "stream",
          "name": "stdout",
          "text": [
            "1.10.0+cu111\n"
          ]
        }
      ]
    },
    {
      "cell_type": "code",
      "source": [
        "# Get cpu or gpu device for training.\n",
        "device = \"cuda\" if torch.cuda.is_available() else \"cpu\"\n",
        "print(f\"Using {device} device\")"
      ],
      "metadata": {
        "colab": {
          "base_uri": "https://localhost:8080/"
        },
        "id": "shdSXuyuE1rJ",
        "outputId": "99bbcc3f-1a42-496a-8ab4-19d8f7ce9801"
      },
      "execution_count": null,
      "outputs": [
        {
          "output_type": "stream",
          "name": "stdout",
          "text": [
            "Using cpu device\n"
          ]
        }
      ]
    },
    {
      "cell_type": "markdown",
      "metadata": {
        "id": "blEBaK0ugMUS"
      },
      "source": [
        "## Prepare Datasets\n",
        "### OpenDataset from TorchVision"
      ]
    },
    {
      "cell_type": "markdown",
      "metadata": {
        "id": "y0odtPtd2bzl"
      },
      "source": [
        "\n",
        "1. Loading OpenDataset (Fashion MNIST) from Pytorch data\n",
        "* ``Dataset``:  stores the samples and their corresponding labels\n",
        "* ``DataLoader`` wraps an iterable around the ``Dataset``.\n"
      ]
    },
    {
      "cell_type": "code",
      "execution_count": null,
      "metadata": {
        "id": "Syszi5NQ2bzm"
      },
      "outputs": [],
      "source": [
        "from torch.utils.data import DataLoader\n",
        "from torchvision import datasets\n",
        "from torchvision.transforms import ToTensor\n"
      ]
    },
    {
      "cell_type": "code",
      "execution_count": null,
      "metadata": {
        "id": "r8PiOEFx2bzn"
      },
      "outputs": [],
      "source": [
        "# Download training data from open datasets.\n",
        "training_data = datasets.MNIST(\n",
        "    root=\"data\",\n",
        "    train=True,\n",
        "    download=True,\n",
        "    transform=ToTensor(),   #converts 0~255 value to 0~1 value.\n",
        ")\n",
        "\n",
        "# Download test data from open datasets.\n",
        "test_data = datasets.MNIST(\n",
        "    root=\"data\",\n",
        "    train=False,\n",
        "    download=True,\n",
        "    transform=ToTensor(),\n",
        ")"
      ]
    },
    {
      "cell_type": "markdown",
      "metadata": {
        "id": "Uel8Ptvr2bzo"
      },
      "source": [
        "2. Use  ``DataLoader`` to  make dataset iterable.\n",
        "* supports automatic batching, sampling, shuffling and multiprocess data loading. \n",
        "\n"
      ]
    },
    {
      "cell_type": "code",
      "execution_count": null,
      "metadata": {
        "id": "zdFdt1pe2bzo",
        "colab": {
          "base_uri": "https://localhost:8080/"
        },
        "outputId": "6ca73391-5afd-49ec-c5d7-1459e9d0c049"
      },
      "outputs": [
        {
          "output_type": "stream",
          "name": "stdout",
          "text": [
            "Shape of X [N, C, H, W]: torch.Size([64, 1, 28, 28])\n",
            "Shape of y: torch.Size([64]) torch.int64\n"
          ]
        }
      ],
      "source": [
        "batch_size = 64\n",
        "\n",
        "# Create data loaders.\n",
        "train_dataloader = DataLoader(training_data, batch_size=batch_size)\n",
        "test_dataloader = DataLoader(test_data, batch_size=batch_size)\n",
        "\n",
        "for X, y in test_dataloader:\n",
        "    print(f\"Shape of X [N, C, H, W]: {X.shape}\")\n",
        "    print(f\"Shape of y: {y.shape} {y.dtype}\")\n",
        "    break"
      ]
    },
    {
      "cell_type": "markdown",
      "source": [
        "3. Plot some training data\n"
      ],
      "metadata": {
        "id": "QQ7CqtrmG0mp"
      }
    },
    {
      "cell_type": "code",
      "source": [
        "import matplotlib.pyplot as plt\n",
        "\n",
        "dataiter = iter(train_dataloader)\n",
        "images, labels = dataiter.next()\n",
        "\n",
        "figure = plt.figure()\n",
        "num_of_images = 9\n",
        "for index in range(num_of_images):\n",
        "    plt.subplot(3, 3, index+1)\n",
        "    plt.axis('off')    \n",
        "    plt.title(\"Ground Truth: {}\".format(labels[index]))\n",
        "    plt.imshow(images[index].numpy().squeeze(), cmap='gray_r')"
      ],
      "metadata": {
        "id": "ccpGGs8dG4dR",
        "colab": {
          "base_uri": "https://localhost:8080/",
          "height": 264
        },
        "outputId": "cf3044fa-ff1d-4c41-d981-80ab50a8c216"
      },
      "execution_count": null,
      "outputs": [
        {
          "output_type": "display_data",
          "data": {
            "image/png": "[encoded data removed]",
            "text/plain": [
              "<Figure size 432x288 with 9 Axes>"
            ]
          },
          "metadata": {
            "needs_background": "light"
          }
        }
      ]
    },
    {
      "cell_type": "markdown",
      "source": [
        "# Load Pre-Trained model\n",
        "\n",
        "\n",
        "1. Upload file \" MNIST_model.pth \"  to drive\n",
        "* MNIST_model.pth from Tutorial Part 1\n",
        "\n",
        "![image](https://user-images.githubusercontent.com/38373000/154288534-eff8ab61-fba8-47e0-9a78-c9c2f3145192.png)\n",
        "\n",
        "### Load the pretrained model\n",
        "\n",
        "(Option 1) Loading a model with structures \n",
        "\n"
      ],
      "metadata": {
        "id": "slHZqHyYFZ7p"
      }
    },
    {
      "cell_type": "code",
      "source": [
        "model=torch.load('MNIST_model.pth')\n",
        "model.eval()"
      ],
      "metadata": {
        "colab": {
          "base_uri": "https://localhost:8080/"
        },
        "id": "Bo1oKxEeYGIJ",
        "outputId": "c7da62c2-8941-4bc1-f356-a475fc4dde0e"
      },
      "execution_count": null,
      "outputs": [
        {
          "output_type": "execute_result",
          "data": {
            "text/plain": [
              "NeuralNetwork(\n",
              "  (flatten): Flatten(start_dim=1, end_dim=-1)\n",
              "  (linear_relu_stack): Sequential(\n",
              "    (0): Linear(in_features=784, out_features=512, bias=True)\n",
              "    (1): ReLU()\n",
              "    (2): Linear(in_features=512, out_features=512, bias=True)\n",
              "    (3): ReLU()\n",
              "    (4): Linear(in_features=512, out_features=10, bias=True)\n",
              "  )\n",
              ")"
            ]
          },
          "metadata": {},
          "execution_count": 17
        }
      ]
    },
    {
      "cell_type": "markdown",
      "source": [
        "(Option 2) Loading a model includes re-creating the model structure and loading the state dictionary into it.\n",
        "\n",
        "* Need to `import` or define the Network Structure"
      ],
      "metadata": {
        "id": "oygicb0XhWXZ"
      }
    },
    {
      "cell_type": "code",
      "source": [
        "class MLP(nn.Module):\n",
        "    def __init__(self):\n",
        "        super(MLP, self).__init__()\n",
        "        self.flatten = nn.Flatten()\n",
        "        self.linear1 = nn.Linear(28*28, 250)\n",
        "        self.linear2 = nn.Linear(250, 100)\n",
        "        self.linear3 = nn.Linear(100, 10)\n",
        "\n",
        "        \n",
        "    def forward(self, x):\n",
        "        x=self.flatten(x)\n",
        "        x= F.relu(self.linear1(x))\n",
        "        x = F.relu(self.linea2(x))\n",
        "        y_pred = F.log_softmax(self.linea3(x))\n",
        "        return y_pred\n",
        "\n",
        "\n"
      ],
      "metadata": {
        "id": "MABqSmvweObS"
      },
      "execution_count": null,
      "outputs": []
    },
    {
      "cell_type": "code",
      "source": [
        "model2 = MLP().to(device)\n",
        "print(model2)\n",
        "model2.load_state_dict(torch.load('MNIST_model2.pth'))\n",
        "model2.eval()\n"
      ],
      "metadata": {
        "colab": {
          "base_uri": "https://localhost:8080/"
        },
        "id": "3l3ViL5_dVPC",
        "outputId": "764b1446-fc73-47f9-a6e4-19fae130b5c8"
      },
      "execution_count": null,
      "outputs": [
        {
          "output_type": "execute_result",
          "data": {
            "text/plain": [
              "NeuralNetwork(\n",
              "  (flatten): Flatten(start_dim=1, end_dim=-1)\n",
              "  (linear_relu_stack): Sequential(\n",
              "    (0): Linear(in_features=784, out_features=512, bias=True)\n",
              "    (1): ReLU()\n",
              "    (2): Linear(in_features=512, out_features=512, bias=True)\n",
              "    (3): ReLU()\n",
              "    (4): Linear(in_features=512, out_features=10, bias=True)\n",
              "  )\n",
              ")"
            ]
          },
          "metadata": {},
          "execution_count": 15
        }
      ]
    },
    {
      "cell_type": "markdown",
      "metadata": {
        "id": "T9JJWT1A8zvX"
      },
      "source": [
        "# Test the model \n",
        "\n",
        "### Define **test()** function \n",
        "Using ``eval()`` for test. Evaluate mode로 전환.\n",
        "\n",
        "This function can be reused in other tutorials"
      ]
    },
    {
      "cell_type": "code",
      "metadata": {
        "id": "xvmC5oFs72SC"
      },
      "source": [
        "def test(dataloader, model, loss_fn):\n",
        "    size = len(dataloader.dataset)\n",
        "    num_batches = len(dataloader)\n",
        "    model.eval()\n",
        "    test_loss, correct = 0, 0\n",
        "    with torch.no_grad():\n",
        "        for X, y in dataloader:\n",
        "            X, y = X.to(device), y.to(device)\n",
        "            pred = model(X)\n",
        "            test_loss += loss_fn(pred, y).item()\n",
        "            correct += (pred.argmax(1) == y).type(torch.float).sum().item()\n",
        "    test_loss /= num_batches\n",
        "    correct /= size\n",
        "    print(f\"Test Error: \\n Accuracy: {(100*correct):>0.1f}%, Avg loss: {test_loss:>8f} \\n\")"
      ],
      "execution_count": null,
      "outputs": []
    },
    {
      "cell_type": "markdown",
      "metadata": {
        "id": "Lc_uKTg685fR"
      },
      "source": [
        "### Test \n",
        "Print test data accuracy "
      ]
    },
    {
      "cell_type": "code",
      "metadata": {
        "id": "3AyUVhP58U4W"
      },
      "source": [
        "epochs = 2\n",
        "for t in range(epochs):\n",
        "    print(f\"Epoch {t+1}\\n-------------------------------\")\n",
        "    test(test_dataloader, model, loss_fn)\n",
        "print(\"Done!\")"
      ],
      "execution_count": null,
      "outputs": []
    },
    {
      "cell_type": "markdown",
      "source": [
        "### Visualize test results\n",
        "\n",
        "Select random test images and evaluate"
      ],
      "metadata": {
        "id": "7reJNX_fMgwG"
      }
    },
    {
      "cell_type": "code",
      "source": [
        "# Get some random test  images // BatchSize at a time\n",
        "dataiter = iter(test_dataloader)\n",
        "images, labels = dataiter.next()\n",
        "print(images.size())\n",
        "\n",
        "\n",
        "# Evaluate mode로 전환\n",
        "# Prediction of some sample images \n",
        "with torch.no_grad():\n",
        "  for X, y in dataiter:\n",
        "      X, y = X.to(device), y.to(device)\n",
        "      pred = model(X)\n",
        "      _, predicted = torch.max(pred.data, 1)\n"
      ],
      "metadata": {
        "id": "zpVhWXBYMlYh"
      },
      "execution_count": null,
      "outputs": []
    },
    {
      "cell_type": "markdown",
      "source": [
        "Plot some test image results"
      ],
      "metadata": {
        "id": "J8Lnx8mKRo_c"
      }
    },
    {
      "cell_type": "code",
      "source": [
        "figure = plt.figure()\n",
        "num_of_images = 9\n",
        "for index in range(num_of_images):\n",
        "    plt.subplot(3, 3, index+1)\n",
        "    plt.axis('off')    \n",
        "    plt.title(\"Predicted: {}\".format(predicted[index].item()))\n",
        "    plt.imshow(images[index].cpu().numpy().squeeze(), cmap='gray_r')"
      ],
      "metadata": {
        "id": "PUfby6DlRoXW"
      },
      "execution_count": null,
      "outputs": []
    },
    {
      "cell_type": "markdown",
      "source": [
        "# Exercise\n"
      ],
      "metadata": {
        "id": "tTpn1MJf3AmL"
      }
    },
    {
      "cell_type": "markdown",
      "source": [
        "## Exercise 1\n",
        "Rewrite  the above MLP model as the following. \n",
        "\n",
        "![](https://raw.githubusercontent.com/dmlc/web-data/master/mxnet/image/mlp_mnist.png)\n"
      ],
      "metadata": {
        "id": "t1Qm0OYV25w7"
      }
    },
    {
      "cell_type": "markdown",
      "source": [
        "\n",
        "## Exercise 2\n",
        "Plot Confusion Matrix for Test Dataset\n",
        "\n",
        "See for  `from sklearn import metrics` and ` metrics.confusion_matrix`"
      ],
      "metadata": {
        "id": "yCmZZ0XT3Ivj"
      }
    }
  ]
}