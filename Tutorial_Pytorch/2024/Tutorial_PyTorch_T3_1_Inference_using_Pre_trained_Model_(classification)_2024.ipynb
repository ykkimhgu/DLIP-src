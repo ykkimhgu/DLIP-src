{
  "cells": [
    {
      "cell_type": "markdown",
      "metadata": {
        "id": "XYRaBJUGrhTD"
      },
      "source": [
        "# **DLIP Tutorial - PyTorch**\n",
        "# Part 1: Inference using pre-trained model (classification)\n",
        "\n",
        "Y.-K. Kim  (updated 2024. 5. 9)\n",
        "\n",
        "classification model using a pretrained CNN model provided by PyTorch\n",
        " \n",
        " The models were pre-trained on the **ImageNet** dataset (1000 classes)\n",
        "\n",
        "\n",
        "## For CoLab Usage:\n",
        "\n",
        "1. First, download this notebook\n",
        "2. Then, open in Colab"
      ]
    },
    {
      "cell_type": "markdown",
      "metadata": {},
      "source": [
        "# Preparation"
      ]
    },
    {
      "cell_type": "code",
      "execution_count": null,
      "metadata": {
        "colab": {
          "base_uri": "https://localhost:8080/"
        },
        "id": "6DYSnlNegOwg",
        "outputId": "3a1a7839-bf1e-4d61-bafb-c47df8b22190"
      },
      "outputs": [],
      "source": [
        "import torch\n",
        "from torchvision import transforms\n",
        "from torchvision import models\n",
        "from torchsummary import summary\n",
        "\n",
        "import cv2 as cv\n",
        "from matplotlib import pyplot as plt\n",
        "from PIL import Image\n",
        "\n"
      ]
    },
    {
      "cell_type": "markdown",
      "metadata": {},
      "source": [
        "### GPU Setting"
      ]
    },
    {
      "cell_type": "code",
      "execution_count": null,
      "metadata": {},
      "outputs": [],
      "source": [
        "# Get cpu or gpu device for training.\n",
        "device = \"cuda\" if torch.cuda.is_available() else \"cpu\"\n",
        "\n",
        "print(f\"Using {device} device\")\n",
        "if torch.cuda.is_available(): print(f'Device name: {torch.cuda.get_device_name(0)}') "
      ]
    },
    {
      "cell_type": "markdown",
      "metadata": {},
      "source": [
        "# Load a pre-trained model from TorchVision\n"
      ]
    },
    {
      "cell_type": "markdown",
      "metadata": {},
      "source": [
        "Let’s import models from torchvision module and see what are the different models and architectures available with us. (see: https://pytorch.org/vision/stable/models.html)"
      ]
    },
    {
      "cell_type": "code",
      "execution_count": null,
      "metadata": {},
      "outputs": [],
      "source": [
        "dir(models)"
      ]
    },
    {
      "cell_type": "markdown",
      "metadata": {},
      "source": [
        "Notice that there is one entry called AlexNet and one called alexnet. The capitalised name refers to the Python class (AlexNet) whereas alexnet is a convenience function that returns the model instantiated from the AlexNet class. These convenience functions can have different parameter sets. \n",
        "\n",
        "Densenet121, densenet161, densenet169, densenet201, all are instances of DenseNet class but with a different number of layers – 121,161,169 and 201, respectively."
      ]
    },
    {
      "cell_type": "markdown",
      "metadata": {},
      "source": [
        "### Load Pretrained VGG-16\n",
        "We will use VGG-16 for this tutorial.  Check the model architecture using summary"
      ]
    },
    {
      "cell_type": "code",
      "execution_count": null,
      "metadata": {
        "colab": {
          "base_uri": "https://localhost:8080/"
        },
        "id": "5kQsvCCkggxz",
        "outputId": "0650a8f4-787c-497d-ba7d-d0ad427b774d"
      },
      "outputs": [],
      "source": [
        "model = models.vgg16(pretrained=True)\n",
        "model.eval() # run the model with evaluation mode\n",
        "model = model.cuda()\n",
        "\n",
        "summary(model, (3, 224, 224))"
      ]
    },
    {
      "cell_type": "markdown",
      "metadata": {
        "id": "MsmmlbSYrko-"
      },
      "source": [
        "# Test image preparation"
      ]
    },
    {
      "cell_type": "markdown",
      "metadata": {
        "id": "Rmz0Bz7lsfiO"
      },
      "source": [
        "In this tutorial, we load one test image file from the following URL"
      ]
    },
    {
      "cell_type": "code",
      "execution_count": null,
      "metadata": {
        "colab": {
          "base_uri": "https://localhost:8080/",
          "height": 935
        },
        "id": "uM-mjNaZjtx_",
        "outputId": "e374dbe0-6c19-4abb-eb16-be06331c199b"
      },
      "outputs": [],
      "source": [
        "# Download an example image from URL\n",
        "url = \"https://3.bp.blogspot.com/-W__wiaHUjwI/Vt3Grd8df0I/AAAAAAAAA78/7xqUNj8ujtY/s1600/image02.png\"\n",
        "filename = \"test_image.jpg\"\n",
        "\n",
        "import urllib\n",
        "try: urllib.URLopener().retrieve(url, filename)\n",
        "except: urllib.request.urlretrieve(url, filename)\n",
        "\n",
        "# image show\n",
        "\n",
        "# from google.colab.patches import cv2_imshow\n",
        "# img = cv.imread(filename)\n",
        "# cv2_imshow(img)\n",
        "img = cv.imread(filename)\n",
        "dst = cv.cvtColor(img, cv.COLOR_BGR2RGB)\n",
        "plt.imshow(dst)\n",
        "plt.show()\n"
      ]
    },
    {
      "cell_type": "markdown",
      "metadata": {
        "id": "1OEmgdVYt1qq"
      },
      "source": [
        "# Inference using pretrained model"
      ]
    },
    {
      "cell_type": "markdown",
      "metadata": {},
      "source": [
        "All pre-trained models expect input images normalized in the same way, i.e. mini-batches of 3-channel RGB images of shape (3 x H x W), where H and W are expected to be at least 224. The images have to be loaded in to a range of [0, 1] and then normalized using mean = [0.485, 0.456, 0.406] and std = [0.229, 0.224, 0.225]."
      ]
    },
    {
      "cell_type": "code",
      "execution_count": null,
      "metadata": {},
      "outputs": [],
      "source": [
        "\n",
        "\n",
        "preprocess = transforms.Compose([\n",
        "    transforms.Resize(256),\n",
        "    transforms.CenterCrop(224),\n",
        "    transforms.ToTensor(),\n",
        "    transforms.Normalize(mean=[0.485, 0.456, 0.406], std=[0.229, 0.224, 0.225]),\n",
        "])"
      ]
    },
    {
      "cell_type": "markdown",
      "metadata": {},
      "source": [
        "Here's a sample execution. \n",
        "\n",
        "The output is the probability value for each 1000 classes. (the sum of all probabilities is 1)"
      ]
    },
    {
      "cell_type": "code",
      "execution_count": null,
      "metadata": {
        "colab": {
          "base_uri": "https://localhost:8080/"
        },
        "id": "ss2d52Ymjy53",
        "outputId": "bd82aec8-6d4a-4caa-83e9-3ee574262d60"
      },
      "outputs": [],
      "source": [
        "# sample execution (requires torchvision)\n",
        "# Normalize and resize to 224x224\n",
        "input_image = Image.open(filename)\n",
        "input_tensor = preprocess(input_image)\n",
        "input_batch = input_tensor.unsqueeze(0) # create a mini-batch as expected by the model\n",
        "\n",
        "# move the input and model to GPU for speed if available\n",
        "if torch.cuda.is_available():\n",
        "    input_batch = input_batch.to('cuda')\n",
        "    model.to('cuda')\n",
        "\n",
        "# Forward process\n",
        "with torch.no_grad():\n",
        "    output = model(input_batch)\n",
        "# Tensor of shape 1000, with confidence scores over Imagenet's 1000 classes\n",
        "#print(output[0])\n",
        "\n",
        "# The output has unnormalized scores. To get probabilities, you can run a softmax on it.\n",
        "probabilities = torch.nn.functional.softmax(output[0], dim=0)\n",
        "print(probabilities)"
      ]
    },
    {
      "cell_type": "markdown",
      "metadata": {
        "id": "KV-3ZzoztW6j"
      },
      "source": [
        "What do we do with the output which is a vector with 1000 elements? We need to get class label list of the image. \n",
        "\n",
        "Thus, we will load label information from a text file having a list of all the 1000 class labels. The line number specifies the class number"
      ]
    },
    {
      "cell_type": "code",
      "execution_count": null,
      "metadata": {
        "colab": {
          "base_uri": "https://localhost:8080/"
        },
        "id": "LzU7fgQ0j3LF",
        "outputId": "9f8232cf-35c2-4c8a-8876-521e9fc8fd86"
      },
      "outputs": [],
      "source": [
        "# Download ImageNet labels\n",
        "import urllib\n",
        "url = 'https://raw.githubusercontent.com/pytorch/hub/master/imagenet_classes.txt'\n",
        "filename = 'imagenet_classes.txt'\n",
        "urllib.request.urlretrieve(url, filename)"
      ]
    },
    {
      "cell_type": "markdown",
      "metadata": {
        "id": "Strg_8f5tync"
      },
      "source": [
        "Now, we need to find out the index for the maximum probability. This index is the prediction class.\n",
        "For this tutorial, we will print the top-5 probability"
      ]
    },
    {
      "cell_type": "code",
      "execution_count": null,
      "metadata": {
        "colab": {
          "base_uri": "https://localhost:8080/"
        },
        "id": "QNSRuYSjj5a3",
        "outputId": "9a2fec8d-70e4-4abe-943c-dd5f93bd1151"
      },
      "outputs": [],
      "source": [
        "# Read the categories\n",
        "with open(\"imagenet_classes.txt\", \"r\") as f:\n",
        "    categories = [s.strip() for s in f.readlines()]\n",
        "\n",
        "# Show top 5 categories per image\n",
        "top5_prob, top5_catid = torch.topk(probabilities, 5)\n",
        "for i in range(top5_prob.size(0)):\n",
        "    print(categories[top5_catid[i]], top5_prob[i].item())"
      ]
    }
  ],
  "metadata": {
    "colab": {
      "collapsed_sections": [],
      "include_colab_link": true,
      "name": "Tutorial_PyTorch_T3-1_Inference using Pre-trained Model (classification).ipynb",
      "provenance": []
    },
    "kernelspec": {
      "display_name": "Python 3",
      "name": "python3"
    },
    "language_info": {
      "codemirror_mode": {
        "name": "ipython",
        "version": 3
      },
      "file_extension": ".py",
      "mimetype": "text/x-python",
      "name": "python",
      "nbconvert_exporter": "python",
      "pygments_lexer": "ipython3",
      "version": "3.9.19"
    }
  },
  "nbformat": 4,
  "nbformat_minor": 0
}
