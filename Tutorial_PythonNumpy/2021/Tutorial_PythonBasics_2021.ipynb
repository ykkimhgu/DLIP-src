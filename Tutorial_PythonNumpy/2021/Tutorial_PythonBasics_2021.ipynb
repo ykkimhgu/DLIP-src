{
  "nbformat": 4,
  "nbformat_minor": 0,
  "metadata": {
    "colab": {
      "name": "Tutorial_PythonBasics_2021",
      "provenance": [],
      "collapsed_sections": [],
      "include_colab_link": true
    },
    "kernelspec": {
      "name": "python3",
      "display_name": "Python 3"
    },
    "language_info": {
      "name": "python"
    }
  },
  "cells": [
    {
      "cell_type": "markdown",
      "metadata": {
        "id": "view-in-github",
        "colab_type": "text"
      },
      "source": [
        "<a href=\"https://colab.research.google.com/github/ykkimhgu/DLIP-src/blob/main/Tutorial_PythonBasics_2021.ipynb\" target=\"_parent\"><img src=\"https://colab.research.google.com/assets/colab-badge.svg\" alt=\"Open In Colab\"/></a>"
      ]
    },
    {
      "cell_type": "markdown",
      "metadata": {
        "id": "LnTAQlDLYfY_"
      },
      "source": [
        "# Python Basics \n",
        "*Learning Python in 60 minutes by Y.-K. Kim*\n",
        "\n",
        "\n",
        "We will use the Python and Numpy for Deep Learning assignments in this course. \n",
        "\n",
        "Python is a great general-purpose programming language on its own, but with the help of a few popular libraries (numpy, scipy, matplotlib) it becomes a powerful environment for scientific computing.\n",
        "\n",
        "This tutorial is created from various references of\n",
        "\n",
        "1.   Python Numpy Tutorial by CS231n : https://cs231n.github.io\n",
        "2.   python-numpy-tutorial: https://www.w3schools.com/python/\n",
        "3. A Crash Course in Python for Scientists by  Rick Muller:  https://nbviewer.jupyter.org/gist/rpmuller/5920182#ii.-numpy-and-scipy\n",
        "\n",
        "\n",
        "\n"
      ]
    },
    {
      "cell_type": "markdown",
      "metadata": {
        "id": "VCLfpVvrZZY9"
      },
      "source": [
        "## Python Versions\n",
        "We will use Python 3.7, follow how to install Python in the course website.  "
      ]
    },
    {
      "cell_type": "markdown",
      "metadata": {
        "id": "qCkoYKrMZ0jw"
      },
      "source": [
        "# Python Indentation\n",
        "Python uses indentation to indicate a block of code."
      ]
    },
    {
      "cell_type": "code",
      "metadata": {
        "id": "qaMYdJtDZ86B"
      },
      "source": [
        "# This gives no error\n",
        "\n",
        "if 5 > 2:\n",
        " print(\"Five is greater than two!\") \n",
        "if 5 > 2:\n",
        "        print(\"Five is greater than two!\") "
      ],
      "execution_count": null,
      "outputs": []
    },
    {
      "cell_type": "code",
      "metadata": {
        "id": "LFfh22DGaGdg"
      },
      "source": [
        "# This will give errors. Correct this.\n",
        "\n",
        "if 5 > 2:\n",
        " print(\"Five is greater than two!\")\n",
        "        print(\"Five is greater than two!\")"
      ],
      "execution_count": null,
      "outputs": []
    },
    {
      "cell_type": "markdown",
      "metadata": {
        "id": "ZUc1CrNCacez"
      },
      "source": [
        "#  Data Types\n",
        "Python has the following data types built-in by default, in these categories:\n",
        "\n",
        "* Text Type:\tstr\n",
        "* Numeric Types:\tint, float, complex\n",
        "* Sequence Types:\tlist, tuple, range\n",
        "* Mapping Type:\tdict\n",
        "* Set Types:\tset, frozenset\n",
        "* Boolean Type:\tbool\n",
        "* Binary Types:\tbytes, bytearray, memoryview"
      ]
    },
    {
      "cell_type": "markdown",
      "metadata": {
        "id": "3qySWKEnbWpL"
      },
      "source": [
        "## Numeric and Text Types"
      ]
    },
    {
      "cell_type": "code",
      "metadata": {
        "colab": {
          "base_uri": "https://localhost:8080/"
        },
        "collapsed": true,
        "id": "TCwRkcVdapPS",
        "outputId": "b6fa5a92-bcf2-4ca0-e45d-d0c2bea9238a"
      },
      "source": [
        "# Try it \n",
        "\n",
        "x = \"Hello World\"\n",
        "y = 5\n",
        "z = -87.7e100\n",
        "\n",
        "#display x:\n",
        "print(x)\n",
        "print(y)\n",
        "print(z)\n",
        "\n",
        "#display the data type of x:\n",
        "print(type(x)) \n",
        "print(type(y)) \n",
        "print(type(z)) "
      ],
      "execution_count": null,
      "outputs": [
        {
          "output_type": "stream",
          "text": [
            "Hello World\n",
            "5\n",
            "-8.77e+101\n",
            "<class 'str'>\n",
            "<class 'int'>\n",
            "<class 'float'>\n"
          ],
          "name": "stdout"
        }
      ]
    },
    {
      "cell_type": "markdown",
      "metadata": {
        "id": "ce2A94X2dgP0"
      },
      "source": [
        "## Number operations\n",
        "familiar from other programming languages.\n",
        "* Python does not have unary increment (x++) or decrement (x--) operators.\n"
      ]
    },
    {
      "cell_type": "code",
      "metadata": {
        "colab": {
          "base_uri": "https://localhost:8080/"
        },
        "collapsed": true,
        "id": "7YpKw-JCdpBk",
        "outputId": "111f58e4-234c-419d-dc30-73980cd51b90"
      },
      "source": [
        "x = 3\n",
        "print(x + 1)   # Addition; prints \"4\"\n",
        "print(x * 2)   # Multiplication; prints \"6\"\n",
        "print(x ** 2)  # Exponentiation; prints \"9\"\n",
        "x += 1\n",
        "print(x)  # Prints \"4\"\n",
        "x *= 2\n",
        "print(x)  # Prints \"8\"\n",
        "\n",
        "y = 4\n",
        "print(y, y + 1, y * 2, y ** 2) "
      ],
      "execution_count": null,
      "outputs": [
        {
          "output_type": "stream",
          "text": [
            "4\n",
            "6\n",
            "9\n",
            "4\n",
            "8\n",
            "4 5 8 16\n"
          ],
          "name": "stdout"
        }
      ]
    },
    {
      "cell_type": "markdown",
      "metadata": {
        "id": "sRbSNGf0eQLW"
      },
      "source": [
        "## String Operations\n",
        "\n",
        "use either 'text' or \"text\"."
      ]
    },
    {
      "cell_type": "code",
      "metadata": {
        "id": "3OyQOGVjeUvX"
      },
      "source": [
        "hello = 'hello'    # String literals can use single quotes\n",
        "world = \"world\"    # or double quotes; it does not matter.\n",
        "year=2021\n",
        "\n",
        "print(hello)       # Prints \"hello\"\n",
        "print(len(hello))  # String length; prints \"5\"\n",
        "\n",
        "hw = hello + ' ' + world + ' '+str(year)  # String concatenation\n",
        "print(hw)  # prints \"hello world\"\n",
        "\n",
        "hw2021 = '%s %s %d' %(hello, world, year)  # sprintf style string formatting\n",
        "print(hw2021)  # prints \"hello world 12\""
      ],
      "execution_count": null,
      "outputs": []
    },
    {
      "cell_type": "markdown",
      "metadata": {
        "id": "kKs4lBYScFYO"
      },
      "source": [
        "### Convert Types  \n",
        "Int <--> float   /  Int <--> String"
      ]
    },
    {
      "cell_type": "code",
      "metadata": {
        "id": "ErtnOfVXcAh-"
      },
      "source": [
        "# Convert from int to float:\n",
        "\n",
        "x = 5\n",
        "y = 2.8  \n",
        "z = \"3.8\"\n",
        "\n",
        "a = float(x)\n",
        "b = int(y)\n",
        "c = float(z)\n",
        "d = str(y)\n",
        "\n",
        "print(a)\n",
        "print(b)\n",
        "print(c)\n",
        "print(d)\n",
        "\n",
        "print(type(a))\n",
        "print(type(b))\n",
        "print(type(c))\n",
        "print(type(d))"
      ],
      "execution_count": null,
      "outputs": []
    },
    {
      "cell_type": "markdown",
      "metadata": {
        "id": "ht2tjur6X6J0"
      },
      "source": [
        "\n",
        "\n",
        "---\n",
        "\n"
      ]
    },
    {
      "cell_type": "markdown",
      "metadata": {
        "id": "fxYLjTdbfXWj"
      },
      "source": [
        "# Containers\n",
        "Python includes several built-in container types: lists, dictionaries, sets, and tuples.\n",
        "* **List** is a collection which is ordered and changeable. Allows duplicate members.\n",
        "* **Tuple** is a collection which is ordered and unchangeable. Allows duplicate members.\n",
        "* **Dictionary** is a collection which is ordered* and changeable. No duplicate members. (from Py 3.7)\n",
        "* **Set** is a collection which is unordered and unindexed. No duplicate members.\n",
        "\n",
        "### Ordered\n",
        "When we say that lists are ordered, it means that the items have a defined order, and that order will not change.\n",
        "\n",
        "If you add new items to a list, the new items will be placed at the end of the list.\n",
        "\n",
        "### Changeable\n",
        "The list is changeable, meaning that we can change, add, and remove items in a list after it has been created.\n",
        "\n",
        "### Allow Duplicates\n",
        "Since lists are indexed, lists can have items with the same value:"
      ]
    },
    {
      "cell_type": "markdown",
      "metadata": {
        "id": "MGuWKCVifJ_z"
      },
      "source": [
        "## Lists\n",
        "\n",
        "A list is the Python equivalent of an array, but is resizeable and can contain elements of different types:\n",
        "\n",
        "* Lists are created using **square brackets**:\n",
        "\n",
        "    mylist = [\"apple\", \"banana\", \"cherry\"]\n",
        "\n",
        "List items are **ordered**, **changeable**, and allow **duplicate values.**\n",
        "\n",
        "\n"
      ]
    },
    {
      "cell_type": "code",
      "metadata": {
        "id": "J5L828Kcffya"
      },
      "source": [
        "# Lists allow duplicate values:\n",
        "\n",
        "thislist = [\"apple\", \"banana\", \"cherry\", \"apple\", \"cherry\"]\n",
        "\n",
        "print(thislist)\n",
        "\n",
        "print(len(thislist))\n",
        "\n",
        "\n",
        "# A list can contain different data types:\n",
        "\n",
        "list1 = [\"abc\", 34, True, 40, \"male\"]\n",
        "\n",
        "print(list1)\n",
        "\n",
        "print(len(list1))\n"
      ],
      "execution_count": null,
      "outputs": []
    },
    {
      "cell_type": "markdown",
      "metadata": {
        "id": "XJ--KKQqgeBW"
      },
      "source": [
        "### Accessing and Changing Lists\n",
        "\n",
        "Note: The range  will start at index St (included) and end at index En (**not included**).  (thislist[St:En]).\n",
        "\n",
        "Also, remember that the first item has index 0."
      ]
    },
    {
      "cell_type": "code",
      "metadata": {
        "id": "193y7y9hiZgT"
      },
      "source": [
        "thislist = [\"apple\", \"banana\", \"cherry\", \"apple\", \"cherry\"]\n",
        "\n",
        "print(thislist[1])\n",
        "\n",
        "# -1 refers to the last item\n",
        "print(thislist[-1])\n",
        "\n",
        "# change element\n",
        "thislist[0]=\"melon\" \n",
        "\n",
        "# range of lists\n",
        "print(thislist[0:2])\n",
        "\n"
      ],
      "execution_count": null,
      "outputs": []
    },
    {
      "cell_type": "markdown",
      "metadata": {
        "id": "6Xeni9gkjgRe"
      },
      "source": [
        "What output will these give? Try it yourself\n",
        "\n",
        "print(thislist[:4])\n",
        "\n",
        "print(thislist[2:])\n",
        "\n",
        "print(thislist[-2:-1])"
      ]
    },
    {
      "cell_type": "code",
      "metadata": {
        "id": "A9y5XVoskC_m"
      },
      "source": [
        "#print(thislist[:4])\n",
        "#print(thislist[2:])\n",
        "#print(thislist[-2:-1])"
      ],
      "execution_count": null,
      "outputs": []
    },
    {
      "cell_type": "markdown",
      "metadata": {
        "id": "5O-koUHXfODC"
      },
      "source": [
        "## Dictionary\n",
        "A dictionary is a collection which is ordered*, changeable and does not allow duplicates.\n",
        "\n",
        "\n",
        "A dictionary stores (key : value) pairs.\n",
        "\n",
        "Dictionaries are written with **curly brackets**, and have keys and values:"
      ]
    },
    {
      "cell_type": "code",
      "metadata": {
        "id": "siGp8EdjmnBc"
      },
      "source": [
        "thisdict = {\n",
        "  \"brand\": \"Ford\",\n",
        "  \"model\": \"Mustang\",\n",
        "  \"year\": 1964\n",
        "}\n",
        "\n",
        "print(thisdict)\n",
        "print(len(thisdict))\n",
        "print(thisdict[\"brand\"])"
      ],
      "execution_count": null,
      "outputs": []
    },
    {
      "cell_type": "markdown",
      "metadata": {
        "id": "wL_7oJ7CnCy2"
      },
      "source": [
        "The values in dictionary items can be of any data type:"
      ]
    },
    {
      "cell_type": "code",
      "metadata": {
        "id": "V-fICrqtnIR7"
      },
      "source": [
        "thisdict = {\n",
        "  \"brand\": \"Ford\",\n",
        "  \"electric\": False,\n",
        "  \"year\": 1964,\n",
        "  \"colors\": [\"red\", \"white\", \"blue\"]\n",
        "}\n",
        "\n",
        "print(thisdict)\n",
        "print(len(thisdict))\n",
        "print(thisdict[\"colors\"])"
      ],
      "execution_count": null,
      "outputs": []
    },
    {
      "cell_type": "markdown",
      "metadata": {
        "id": "DqGgW0Run1_o"
      },
      "source": [
        "Items can be added. "
      ]
    },
    {
      "cell_type": "code",
      "metadata": {
        "id": "T9vJOJ40oEaL"
      },
      "source": [
        "thisdict = {\n",
        "  \"brand\": \"Ford\",\n",
        "  \"electric\": False,\n",
        "  \"year\": 1964,\n",
        "  \"colors\": [\"red\", \"white\", \"blue\"]\n",
        "}\n",
        "\n",
        "thisdict[\"type\"] = \"van\"\n",
        "print(thisdict)"
      ],
      "execution_count": null,
      "outputs": []
    },
    {
      "cell_type": "markdown",
      "metadata": {
        "id": "WqDeWU0MbSAK"
      },
      "source": [
        "## Tuple\n",
        "\n",
        "A tuple is a collection which is ordered and **unchangeable**.\n",
        "\n",
        "Tuples are written with **round** brackets."
      ]
    },
    {
      "cell_type": "code",
      "metadata": {
        "id": "x4KxM-sBbQfl"
      },
      "source": [
        "# Try it \n",
        "\n",
        "x = (\"apple\", \"banana\", \"cherry\")\n",
        "\n",
        "#display x:\n",
        "print(x)\n",
        "#display the data type of x:\n",
        "print(type(x)) \n",
        "\n"
      ],
      "execution_count": null,
      "outputs": []
    },
    {
      "cell_type": "code",
      "metadata": {
        "id": "MefnYk8UfM44"
      },
      "source": [
        "# Chaning a Tuple will cause error\n",
        "\n",
        "\n",
        "x = (\"apple\", \"banana\", \"cherry\")\n",
        "x[0]=\"melon\" \n",
        "print(x)"
      ],
      "execution_count": null,
      "outputs": []
    },
    {
      "cell_type": "markdown",
      "metadata": {
        "id": "Qc0Vz3enloDx"
      },
      "source": [
        "one of the most important differences is that tuples can be used as **keys** in dictionaries and as elements of sets, while *lists cannot*"
      ]
    },
    {
      "cell_type": "code",
      "metadata": {
        "id": "u3N_8N0Ql0yj"
      },
      "source": [
        "d = {(x, x + 1): x for x in range(10)}  # Create a dictionary with tuple keys\n",
        "t = (5, 6)        # Create a tuple\n",
        "\n",
        "print(d)  \n",
        "print(type(t))    # Prints \"<class 'tuple'>\"\n",
        "print(d[t])       # Prints \"5\"\n",
        "print(d[(1, 2)])  # Prints \"1\""
      ],
      "execution_count": null,
      "outputs": []
    },
    {
      "cell_type": "markdown",
      "metadata": {
        "id": "ooV-xNL6pWGn"
      },
      "source": [
        "## Sets\n",
        "\n",
        "A set is a collection which is both **unordered** and **unindexed**.\n",
        "\n",
        "Sets are written with **curly** brackets, like Dictionary but no key:value."
      ]
    },
    {
      "cell_type": "code",
      "metadata": {
        "id": "fppBPMKtpl6N"
      },
      "source": [
        "thisset = {\"apple\", \"banana\", \"cherry\"}\n",
        "print(thisset)\n",
        "\n",
        "# Duplicate values will be ignored:\n",
        "thisset = {\"apple\", \"banana\", \"cherry\", \"apple\"}\n",
        "\n",
        "print(thisset)\n",
        "\n",
        "thisset.add('melon') \n",
        "print(thisset)"
      ],
      "execution_count": null,
      "outputs": []
    },
    {
      "cell_type": "markdown",
      "metadata": {
        "id": "A69XXJLHqY2S"
      },
      "source": [
        "---\n",
        "# Loop"
      ]
    },
    {
      "cell_type": "markdown",
      "metadata": {
        "id": "mdnxZNsN1DoO"
      },
      "source": [
        "## While\n",
        "Similar to other language  `while` `break` `continue`"
      ]
    },
    {
      "cell_type": "code",
      "metadata": {
        "id": "rCvhnIMZ1NZb"
      },
      "source": [
        "i = 0\n",
        "while i < 6:\n",
        "  i += 1  \n",
        "  if i == 2:\n",
        "    continue\n",
        "  if i == 4:\n",
        "    break\n",
        "  print(i)\n",
        "  "
      ],
      "execution_count": null,
      "outputs": []
    },
    {
      "cell_type": "markdown",
      "metadata": {
        "id": "uKUEQ89hqk5n"
      },
      "source": [
        "##  For Loops\n",
        "\n",
        "This is less like the for keyword in other programming languages, and works more like an iterator method"
      ]
    },
    {
      "cell_type": "code",
      "metadata": {
        "id": "Ab4UgQVuqtoZ"
      },
      "source": [
        "fruits = [\"apple\", \"banana\", \"cherry\"]\n",
        "adj = [\"red\", \"big\", \"tasty\"]\n",
        "\n",
        "for x in fruits:\n",
        "  print(x)\n",
        "  if x == \"banana\":\n",
        "    break\n",
        "\n",
        "\n",
        "for x in adj:\n",
        "  for y in fruits:\n",
        "    print(x, y)"
      ],
      "execution_count": null,
      "outputs": []
    },
    {
      "cell_type": "markdown",
      "metadata": {
        "id": "f4msEhibq99_"
      },
      "source": [
        "The range() function returns a sequence of numbers, starting from 0 by default, and increments by 1 (by default), and ends at a specified number."
      ]
    },
    {
      "cell_type": "code",
      "metadata": {
        "id": "oK8-50dUq4__"
      },
      "source": [
        "# Iteration numbers\n",
        "for x in range(6):\n",
        "  print(x)\n",
        "print(\"\\n\")\n",
        "\n",
        "# Iteration steps\n",
        "for x in range(2, 30, 3):\n",
        "  print(x)\n",
        "print(\"\\n\")\n",
        "\n",
        "# Iteration x values\n",
        "for x in [-1, 0, 1]:\n",
        "  print(x*x)\n",
        "print(\"\\n\")"
      ],
      "execution_count": null,
      "outputs": []
    },
    {
      "cell_type": "markdown",
      "metadata": {
        "id": "4TMLfpxcq4wX"
      },
      "source": [
        "Else in For Loop"
      ]
    },
    {
      "cell_type": "code",
      "metadata": {
        "id": "3NTL-kW7rKGg"
      },
      "source": [
        "\n",
        "for x in range(6):\n",
        "  print(x)\n",
        "else:\n",
        "  print(\"Finally finished!\")"
      ],
      "execution_count": null,
      "outputs": []
    },
    {
      "cell_type": "markdown",
      "metadata": {
        "id": "A4HVzFDKr8If"
      },
      "source": [
        "For Loop in Dictionary\n"
      ]
    },
    {
      "cell_type": "code",
      "metadata": {
        "id": "nNZffMaFr_Gw"
      },
      "source": [
        "thisdict = {\n",
        "  \"brand\": \"Ford\",\n",
        "  \"electric\": False,\n",
        "  \"year\": 1964,\n",
        "  \"colors\": [\"red\", \"white\", \"blue\"]\n",
        "}\n",
        "\n",
        "# Print each key-value\n",
        "for car in thisdict:\n",
        "    values = thisdict[car]\n",
        "    print('This car  %s is %s ' % (car, values))"
      ],
      "execution_count": null,
      "outputs": []
    },
    {
      "cell_type": "markdown",
      "metadata": {
        "id": "Fa8eVU8ZYvBV"
      },
      "source": [
        "For Loop in List"
      ]
    },
    {
      "cell_type": "code",
      "metadata": {
        "id": "OLXcK0y4YxHr"
      },
      "source": [
        "anim = ['cat', 'dog', 'monkey']\n",
        "d = {'person': 2, 'cat': 4, 'spider': 8}\n",
        "\n",
        "# Prints List Loops\n",
        "for animal in anim:\n",
        "    print(animal)\n",
        "print(\"\\n\")"
      ],
      "execution_count": null,
      "outputs": []
    },
    {
      "cell_type": "markdown",
      "metadata": {
        "id": "_EcneaCQsuhJ"
      },
      "source": [
        "## Exercise\n",
        "\n",
        "### 1. Print a Dictionary with For Loops\n",
        "> \"A person has 2 legs\", \"A cat has 4 legs\", \"A spider has 8 legs\"\n"
      ]
    },
    {
      "cell_type": "code",
      "metadata": {
        "id": "FKJ1-_V-s5xh"
      },
      "source": [
        "anim = ['cat', 'dog', 'monkey']\n",
        "d = {'person': 2, 'cat': 4, 'spider': 8}\n",
        "\n",
        "# Prints Dict Loops\n",
        "# Add Your Code Here\n",
        "\n"
      ],
      "execution_count": null,
      "outputs": []
    },
    {
      "cell_type": "markdown",
      "metadata": {
        "id": "HOjCkJVzbwx0"
      },
      "source": [
        "### 2. Prints a Sets with For Loops\n",
        "> 1: cat,  2: dog,  3: monkey\n"
      ]
    },
    {
      "cell_type": "code",
      "metadata": {
        "id": "Ni4Huaygb4ja"
      },
      "source": [
        "anim = ['cat', 'dog', 'monkey']\n",
        "\n",
        "# Add Your Code Here"
      ],
      "execution_count": null,
      "outputs": []
    },
    {
      "cell_type": "markdown",
      "metadata": {
        "id": "mJHnUaRmbivL"
      },
      "source": [
        "### Exercise Solution\n",
        "\n",
        "1. Prints a Dictionary with For Loops\n",
        "\"A person has 2 legs\", \"A cat has 4 legs\", \"A spider has 8 legs\"\n",
        "```\n",
        "for animal in d:\n",
        "    legs = d[animal]\n",
        "    print('A %s has %d legs' % (animal, legs))\n",
        "    \n",
        "\n",
        "2. Prints a Sets with For Loops\n",
        "1: cat,  2: dog,  3: monkey\n",
        "``` \n",
        "  anim = ['cat', 'dog', 'monkey']\n",
        "\n",
        "  for idx, animal in enumerate(anim):\n",
        "      print('%d: %s' % (idx+1, animal))\n",
        "  print(\"\\n\")\n",
        "\n",
        "  for animal in enumerate(anim):\n",
        "      print(animal)\n",
        "  print(\"\\n\")\n",
        "\n",
        "  for animal in anim:\n",
        "      print(animal)\n",
        "  print(\"\\n\")\n",
        "``` "
      ]
    },
    {
      "cell_type": "markdown",
      "metadata": {
        "id": "-P6SwHpLzh07"
      },
      "source": [
        "# If .. Else\n",
        "\n",
        "Similar to other language  `if`  `elif` `else`"
      ]
    },
    {
      "cell_type": "code",
      "metadata": {
        "id": "MyCh2kNazuu0"
      },
      "source": [
        "a = 200\n",
        "b = 33\n",
        "if b > a:\n",
        "  print(\"b is greater than a\")\n",
        "elif a == b:\n",
        "  print(\"a and b are equal\")\n",
        "else:\n",
        "  print(\"a is greater than b\")"
      ],
      "execution_count": null,
      "outputs": []
    },
    {
      "cell_type": "markdown",
      "metadata": {
        "id": "zUZHROO4z_7D"
      },
      "source": [
        "## Shoft Hand If\n",
        "If you have only one statement to execute, you can put it on the same line as the if statement."
      ]
    },
    {
      "cell_type": "code",
      "metadata": {
        "id": "MmzM-QKn0HPj"
      },
      "source": [
        "a = 200\n",
        "b = 3\n",
        "\n",
        "# Method 1\n",
        "if a > b: print(\"a is greater than b\")\n",
        "\n",
        "# Method 2\n",
        "print(\"A\") if a > b else print(\"B\")"
      ],
      "execution_count": null,
      "outputs": []
    },
    {
      "cell_type": "markdown",
      "metadata": {
        "id": "SMvRaffw0kBg"
      },
      "source": [
        "## Logical Operator\n",
        "`or` `and`"
      ]
    },
    {
      "cell_type": "code",
      "metadata": {
        "id": "hzUDhJkX0ts7"
      },
      "source": [
        "a = 500\n",
        "b = 33\n",
        "c = 500\n",
        "if a > b or a > c:\n",
        "  print(\"At least one of the conditions is True\")\n",
        "\n",
        "if a > b and a > c:\n",
        "  print(\"A is the greatest\")"
      ],
      "execution_count": null,
      "outputs": []
    },
    {
      "cell_type": "markdown",
      "metadata": {
        "id": "iWSfLKmCuJHA"
      },
      "source": [
        "\n",
        "\n",
        "---\n",
        "\n",
        "\n",
        "# Functions\n",
        "Python functions are defined using the `def` keyword. "
      ]
    },
    {
      "cell_type": "code",
      "metadata": {
        "id": "yYXaq7l4uOGi"
      },
      "source": [
        "def sign(x):\n",
        "    if x > 0:\n",
        "        return 'positive'\n",
        "    elif x < 0:\n",
        "        return 'negative'\n",
        "    else:\n",
        "        return 'zero'\n",
        "\n",
        "\n",
        "# Prints \"negative\", \"zero\", \"positive\"\n",
        "for x in [-1, 0, 1]:\n",
        "    print(sign(x))\n"
      ],
      "execution_count": null,
      "outputs": []
    },
    {
      "cell_type": "markdown",
      "metadata": {
        "id": "79x_4qT9ckwu"
      },
      "source": [
        "We will often define functions to take optional keyword arguments"
      ]
    },
    {
      "cell_type": "code",
      "metadata": {
        "id": "ijJiK7c-uTt6"
      },
      "source": [
        "def my_function(country = \"Norway\"):\n",
        "  print(\"I am from \" + country)\n",
        "\n",
        "my_function()\n",
        "my_function(\"Sweden\")\n"
      ],
      "execution_count": null,
      "outputs": []
    },
    {
      "cell_type": "markdown",
      "metadata": {
        "id": "fiQLUi13yTED"
      },
      "source": [
        "###  Arguments *args \n",
        "\n",
        "If you do not know how many arguments that will be passed into your function, add a * before the parameter name in the function definition.\n",
        "\n",
        "This way the function will receive a **tuple** of arguments, and can access the items accordingly:\n",
        "\n",
        " ###  Arbitrary Keyword Arguments, **kwargs\n",
        "If you do not know how many keyword arguments that will be passed into your function, add two asterisk: ** before the parameter name in the function definition.\n",
        "\n",
        "This way the function will receive a **dictionary** of arguments, and can access the items accordingly:"
      ]
    },
    {
      "cell_type": "code",
      "metadata": {
        "id": "0SHRmkHKyb9D"
      },
      "source": [
        "# *args\n",
        "def my_function(*kids):\n",
        "  print(\"The youngest child is \" + kids[2])\n",
        "\n",
        "my_function(\"Emil\", \"Tobias\", \"Linus\")\n",
        "\n",
        "# **kwargs\n",
        "def my_function(**kid):\n",
        "  print(\"His last name is \" + kid[\"lname\"])\n",
        "\n",
        "my_function(fname = \"Tobias\", lname = \"Refsnes\")"
      ],
      "execution_count": null,
      "outputs": []
    },
    {
      "cell_type": "markdown",
      "metadata": {
        "id": "S49uhPkGyiZ6"
      },
      "source": [
        "### Anomymous Function  Lambda\n",
        "A lambda function is a small anonymous function.\n",
        "\n",
        "`lambda arguments : expression`\n",
        "\n",
        "You can create multiple functions with different names  but that uses the same definition (of Lambda)"
      ]
    },
    {
      "cell_type": "code",
      "metadata": {
        "id": "omlnHQyb3PI1"
      },
      "source": [
        "def myfunc(n):\n",
        "  return lambda a : a * n\n",
        "\n",
        "# Define function mydoubler\n",
        "mydoubler = myfunc(2)\n",
        "print(mydoubler(11))\n",
        "\n",
        "# Define function mytripler\n",
        "mytripler = myfunc(3)\n",
        "print(mytripler(11))"
      ],
      "execution_count": null,
      "outputs": []
    },
    {
      "cell_type": "markdown",
      "metadata": {
        "id": "AHIM9XuhuV7b"
      },
      "source": [
        "## Exercise\n",
        "\n",
        "### 1. Create a function that returns a list of The Fibonacci Sequence for n\n",
        "`def fibonacci(n=10):`\n",
        "\n",
        "* n must be greater than 0 else returns error message\n",
        "* returns a  List of Fibonacci\n",
        "\n",
        "   Example: fibonacci(10) #Output:  [0, 1, 1, 2, 3, 5, 8, 13, 21, 34]"
      ]
    },
    {
      "cell_type": "code",
      "metadata": {
        "id": "xZ5zdovtuVkC"
      },
      "source": [
        "def fibonacci(n):\n",
        "  # ADD YOUR CODE HERE\n",
        "  # ADD YOUR CODE HERE\n",
        "\n",
        "# Print \n",
        "fibonacci(10)"
      ],
      "execution_count": null,
      "outputs": []
    },
    {
      "cell_type": "markdown",
      "metadata": {
        "id": "qBTEHtiL4orF"
      },
      "source": [
        "### 2. Find minimum and maximum values for X,Y coordinates in a List\n",
        "should give output as \n",
        "\n",
        "    min max of X are (1, 6)\n",
        "    min max of Y are (10, 20)\n",
        "    \n",
        "```\n",
        "  # (objectname, Xcoord, Ycoord)\n",
        "  positions = [\n",
        "             ('car',1,  10),\n",
        "             ('ped',5,  20),\n",
        "             ('cycle',6, 15)\n",
        "             ]\n",
        "```"
      ]
    },
    {
      "cell_type": "code",
      "metadata": {
        "id": "wGli9jWY5p9L"
      },
      "source": [
        "positions = [\n",
        "             ('car',1,  10),\n",
        "             ('ped',5,  20),\n",
        "             ('cycle',6, 15)\n",
        "             ]\n",
        "\n",
        "def minmaxPos(objects):\n",
        "    minx = 1e20 \n",
        "    miny = 1e20\n",
        "    maxx = -1e20 \n",
        "    maxy = -1e20\n",
        "\n",
        "    # ADD YOUR CODE HERE\n",
        "    # ADD YOUR CODE HERE\n",
        "    return minx,maxx, miny, maxy\n",
        "\n",
        "x0,x1,y0,y1 = minmaxPos(positions)\n",
        "\n",
        "print('min max of X are (%d, %d)' % (x0,x1))\n",
        "print('min max of Y are (%d, %d)' % (y0,y1))\n"
      ],
      "execution_count": null,
      "outputs": []
    },
    {
      "cell_type": "markdown",
      "metadata": {
        "id": "JRB1IJ7ueNSl"
      },
      "source": [
        "### Exercise Solution\n",
        "\n",
        "Exercise Solution 1\n",
        "```  \n",
        "\n",
        "  def fibonacci(n):\n",
        "      sequence = [0,1]\n",
        "      if (n < 1):\n",
        "        print (\" n must be greater than 1\")\n",
        "      if (n < 3):\n",
        "          return sequence[:n]         \n",
        "      else : \n",
        "          for i in range(2,n): \n",
        "            sequence.append(sequence[i-1]+sequence[i-2])\n",
        "          return sequence\n",
        "\n",
        "  # Print \n",
        "  FibList=fibonacci(10)\n",
        "  FibList\n",
        "\n",
        "```  \n",
        "\n",
        "Exercise Solution 2\n",
        "\n",
        "  ```\n",
        "  ### Exercise Solution 1\n",
        "  positions = [\n",
        "             ('car',1,  10),\n",
        "             ('ped',5,  20),\n",
        "             ('cycle',6, 15)\n",
        "             ]\n",
        "\n",
        "  def minmaxPos(objects):\n",
        "      minx = 1e20 # These are set to really big numbers\n",
        "      miny = 1e20\n",
        "      maxx = -1e20 \n",
        "      maxy = -1e20\n",
        "      for obj in objects:\n",
        "          name,x,y = obj\n",
        "          if x < minx: \n",
        "              minx = x\n",
        "          elif x > maxx: \n",
        "              maxx = x\n",
        "          if y < miny:\n",
        "              miny = y\n",
        "          elif y > maxy: \n",
        "              maxy = y\n",
        "      return minx,maxx, miny, maxy\n",
        "\n",
        "  x0,x1,y0,y1 = minmaxPos(positions)\n",
        "\n",
        "  print('min max of X are (%d, %d)' % (x0,x1))\n",
        "  print('min max of Y are (%d, %d)' % (y0,y1))\n",
        "\n",
        "\n"
      ]
    },
    {
      "cell_type": "markdown",
      "metadata": {
        "id": "npZVw_zfuOuz"
      },
      "source": [
        "---\n",
        "# Classes\n",
        "Python is an object oriented programming language.\n",
        "\n",
        "Almost everything in Python is an object, with its properties and methods.\n",
        "\n",
        "A Class is like an object constructor, or a \"blueprint\" for creating objects.\n",
        "\n"
      ]
    },
    {
      "cell_type": "markdown",
      "metadata": {
        "id": "FnjVTWZU-gQ3"
      },
      "source": [
        "## Initiation   __ init __() Function\n",
        "\n",
        "All classes have a function called __ init __(), which is always executed when the class is being initiated.\n",
        "\n",
        "Use the __ init __() function to assign values to object properties, or other operations that are necessary to do when the object is being created:\n",
        "\n",
        "## The self Parameter\n",
        "The self parameter is a reference to the current instance of the class, and is used to access variables that belongs to the class.\n",
        "\n",
        "It does not have to be named self , you can call it whatever you like, but it has to be the first parameter of any function in the class:\n",
        "\n",
        "\n",
        "## Object Methods\n",
        "Objects can also contain methods. Methods in objects are functions that belong to the object."
      ]
    },
    {
      "cell_type": "code",
      "metadata": {
        "id": "UQtnvIuc-9nN"
      },
      "source": [
        "class Person:\n",
        "  def __init__(self, name, age):\n",
        "    self.name = name\n",
        "    self.age = age\n",
        "\n",
        "  def myfunc(self):\n",
        "    print(\"Hello my name is \" + self.name , 'and', self.age ,'years old' )\n",
        "\n",
        "# Create Object or Construct an instance\n",
        "p1 = Person(\"Kim\", 20)\n",
        "\n",
        "# Call myfunc\n",
        "p1.myfunc()"
      ],
      "execution_count": null,
      "outputs": []
    },
    {
      "cell_type": "markdown",
      "metadata": {
        "id": "mFy6OoQGCYpb"
      },
      "source": [
        "Instead of 'self', can use the any name for the current object"
      ]
    },
    {
      "cell_type": "code",
      "metadata": {
        "id": "N2QaG-qgCV0-"
      },
      "source": [
        "class Person:\n",
        "  def __init__(myobject, name, age):\n",
        "    myobject.name = name\n",
        "    myobject.age = age\n",
        "\n",
        "  def myfunc(myobject):\n",
        "    print(\"Hello my name is \" + myobject.name , 'and', myobject.age ,'years old' )\n",
        "\n",
        "  def myName(self):\n",
        "    print(\"Hello my name is \" + self.name)\n",
        "\n",
        "p1 = Person(\"Kim\", 36)\n",
        "p1.myfunc()"
      ],
      "execution_count": null,
      "outputs": []
    },
    {
      "cell_type": "markdown",
      "metadata": {
        "id": "Liou47YkDO4L"
      },
      "source": [
        "### Modify Object Properties\n",
        "\n",
        "You can modify or delete properties on objects"
      ]
    },
    {
      "cell_type": "code",
      "metadata": {
        "id": "1tESOULfDX79"
      },
      "source": [
        "# Modify property\n",
        "p1.age = 40\n",
        "p1.myfunc()\n",
        "\n",
        "# Delete Property\n",
        "del p1.age\n",
        "p1.myName()\n",
        "\n",
        "# Delete Object\n",
        "del p1\n",
        "# p1.myName()  # not defined"
      ],
      "execution_count": null,
      "outputs": []
    },
    {
      "cell_type": "markdown",
      "metadata": {
        "id": "q5gW2SNAEP62"
      },
      "source": [
        "# Inheritance\n",
        "\n",
        "Inheritance allows us to define a class that inherits all the methods and properties from another class.\n",
        "\n",
        "* __Parent__ class is the class being inherited from, also called base class.\n",
        "\n",
        "* __Child__ class is the class that inherits from another class, also called derived class.\n",
        "\n",
        "### Use the super() Function \n",
        "Python also has a `super()` function that will make the child class inherit all the methods and properties from its parent:\n"
      ]
    },
    {
      "cell_type": "markdown",
      "metadata": {
        "id": "v34TtIFWFBge"
      },
      "source": [
        "##  Create Parent Class"
      ]
    },
    {
      "cell_type": "code",
      "metadata": {
        "id": "gJAE5dQiE6ms"
      },
      "source": [
        "class Person:\n",
        "  def __init__(self, fname, lname):\n",
        "    self.firstname = fname\n",
        "    self.lastname = lname\n",
        "\n",
        "  def printname(self):\n",
        "    print(self.firstname, self.lastname)\n",
        "\n",
        "#Use the Person class to create an object, and then execute the printname method:\n",
        "\n",
        "x = Person(\"John\", \"Doe\")\n",
        "x.printname()"
      ],
      "execution_count": null,
      "outputs": []
    },
    {
      "cell_type": "markdown",
      "metadata": {
        "id": "Fqry3RY4FDzO"
      },
      "source": [
        "## Create Child Class\n",
        "Make it inherit the properties and methods from the parents\n",
        "\n",
        "To create a class that inherits the functionality from another class, send the parent class as a parameter when creating the child class:"
      ]
    },
    {
      "cell_type": "code",
      "metadata": {
        "id": "9VOuxVT6Fi4m"
      },
      "source": [
        "class Student(Person):  \n",
        "  pass\n",
        "\n",
        "y = Student(\"Mike\", \"Olsen\")\n",
        "y.printname()"
      ],
      "execution_count": null,
      "outputs": []
    },
    {
      "cell_type": "markdown",
      "metadata": {
        "id": "o7B_wlq_Gpy7"
      },
      "source": [
        "## Child Class: the __init__() Function\n",
        "\n",
        "> When you add the __init__() function, the child class will no longer inherit the parent's __init__() function.\n",
        "\n",
        "> The child's __init__() function overrides the inheritance of the parent's __init__() function.\n",
        "\n",
        "To keep the inheritance of the **parent's** __init__() function,\n",
        "1. Add a call to the parent's __init__() function:\n",
        "2. or,  you can use `super() `"
      ]
    },
    {
      "cell_type": "code",
      "metadata": {
        "id": "ICyytRpxHJ6k"
      },
      "source": [
        "class Student(Person):\n",
        "    def __init__(self, fname, lname, year):\n",
        "      super().__init__(fname, lname)  #inherits parent init()\n",
        "      self.graduationyear = year\n",
        "    \n",
        "    def welcome(self):\n",
        "      print(\"Welcome\", self.firstname, self.lastname, \"to the class of\", self.graduationyear)\n",
        "\n",
        "\n",
        "# Parent method\n",
        "y = Student(\"Mike\", \"Olsen\", 2019)\n",
        "\n",
        "# Using Parent's method\n",
        "y.printname()\n",
        "\n",
        "# using Child method\n",
        "y.welcome()\n",
        "\n",
        "y.graduationyear=2021\n",
        "y.welcome()"
      ],
      "execution_count": null,
      "outputs": []
    },
    {
      "cell_type": "markdown",
      "metadata": {
        "id": "rdeD0YhXI4dT"
      },
      "source": [
        "___\n",
        "# Module\n",
        "\n",
        "Consider a module to be the same as a code library with extension .py:\n",
        "It is like creating a header  include \"*.h\"  in C programming\n",
        "\n",
        "A file containing a set of functions you want to include in your application."
      ]
    },
    {
      "cell_type": "markdown",
      "metadata": {
        "id": "37M5UzHLJYs9"
      },
      "source": [
        "## Create a Module\n",
        "\n",
        "To create a module just save the code you want in a file with the file extension .py:\n",
        "\n",
        "Example\n",
        "\n",
        "```\n",
        "  # mymodule.py\n",
        "\n",
        "  class Person:\n",
        "    def __init__(self, fname, lname):\n",
        "      self.firstname = fname\n",
        "      self.lastname = lname\n",
        "\n",
        "    def printname(self):\n",
        "      print(self.firstname, self.lastname)\n",
        "\n",
        "\n",
        "    person1 = {\n",
        "      \"name\": \"John\",\n",
        "      \"age\": 36,\n",
        "      \"country\": \"Norway\"\n",
        "    }\n",
        "\n",
        "    def greeting(name):\n",
        "      print(\"Hello, \" + name)\n",
        "```\n",
        "\n",
        "\n",
        "\n"
      ]
    },
    {
      "cell_type": "markdown",
      "metadata": {
        "id": "GNpBlhoaKPNh"
      },
      "source": [
        "## Import Module\n",
        "\n",
        " Use the module we just created, by using the import statement:\n",
        "\n",
        "  Can create an **alias** when you import a module, by using the as keyword:\n",
        "\n",
        "> For COLAB, you need to upload  \" mymodule.py\" in the session storage\n",
        "![mountModule.png](data:image/png;base64,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)\n"
      ]
    },
    {
      "cell_type": "code",
      "metadata": {
        "colab": {
          "base_uri": "https://localhost:8080/"
        },
        "id": "LN_e_ppYKnfE",
        "outputId": "ecd0d719-2ebc-4157-e731-a703d533bd40"
      },
      "source": [
        "import mymodule\n",
        "\n",
        "mymodule.greeting('Young')"
      ],
      "execution_count": null,
      "outputs": [
        {
          "output_type": "stream",
          "text": [
            "Hello, Young\n"
          ],
          "name": "stdout"
        }
      ]
    },
    {
      "cell_type": "code",
      "metadata": {
        "id": "1o1BlGoPT_wt"
      },
      "source": [
        "# create an alias when you import a module ( import numpy as np)\n",
        "import mymodule as mx\n",
        "\n",
        "mx.greeting('Young')\n",
        "a = mx.person1[\"age\"]\n",
        "print(a)\n",
        "\n",
        "Student1 = mx.Person(\"Kim\",\"Young\")\n",
        "Student1.printname()"
      ],
      "execution_count": null,
      "outputs": []
    },
    {
      "cell_type": "markdown",
      "metadata": {
        "id": "O7_VSVNTWXkc"
      },
      "source": [
        "##Import From Module\n",
        "\n",
        "Import only selected methods/class from the module:\n",
        "\n",
        "> Note: When importing using the from keyword, do not use the module name when referring to elements in the module. Example: person1[\"age\"], **not** mymodule.person1[\"age\"]"
      ]
    },
    {
      "cell_type": "code",
      "metadata": {
        "id": "voGDZczYWazE"
      },
      "source": [
        "from mymodule import person1\n",
        "\n",
        "print (person1[\"age\"])"
      ],
      "execution_count": null,
      "outputs": []
    },
    {
      "cell_type": "markdown",
      "metadata": {
        "id": "8ce7v_tmXEuM"
      },
      "source": [
        "# Exercise"
      ]
    },
    {
      "cell_type": "markdown",
      "metadata": {
        "id": "7VDnXbbGXLoN"
      },
      "source": [
        "## Problem 1.\n",
        "What would the output be?\n",
        "\n",
        "```\n",
        "\n",
        "  vecA_list = [0, 1, 2, 3, 4, 5, 6, 7, 8, 9, 10, 11, 12, 13, 14]\n",
        "  vecA = np.array(vecA_list)\n",
        "\n",
        "  print(\"\\nvecA = \\n\", vecA)\n",
        "  print(\"\\nvecA[0:7] = \\n\", vecA[0:7])      # ind 0 부터 7-1 index\n",
        "  print(\"\\nvecA[1:7] = \\n\", vecA[1:7])      # ind 1 부터 7-1 index\n",
        "\n",
        "  print(\"\\nvecA[1:-2] = \\n\", vecA[1:-2])      # ind 1 에서 끝에서 -2 번째 ind 까지\n",
        "  print(\"\\nvecA[7:0:-1] = \\n\", vecA[7:0:-1])  # ind 7번째에서 0+1 ind \n",
        "  print(\"\\nvecA[7:0] = \\n\", vecA[7:0])        #  ?   0개 데이터\n",
        "\n",
        "  print(\"\\nvecA[::-2] = \\n\", vecA[::-2])\n",
        "  print(\"\\nvecA[::2] = \\n\", vecA[::2])\n",
        "\n",
        "  vecA[3:7] = 40\n",
        "  print(\"\\nvecA = \\n\", vecA)\n",
        "```"
      ]
    },
    {
      "cell_type": "markdown",
      "metadata": {
        "id": "2JDAQN5DXIO7"
      },
      "source": [
        "## Problem 2.\n",
        "\n",
        "Create functions that return min/max elements and their index.\n",
        "* Input argument is a List\n",
        "* save these functions in a module \"myDLIP.py\"\n",
        "\n",
        "``` \n",
        "  import myDLIP as dp \n",
        "\n",
        "  a = [1,2,3, 4, -1, 5, 2]\n",
        "\n",
        "  print(dp.minVal(a))\n",
        "  print(dp.maxVal(a))\n",
        "  print(dp.minIdx(a))\n",
        "  print(dp.maxIdx(a))\n"
      ]
    },
    {
      "cell_type": "markdown",
      "metadata": {
        "id": "xS5-Xw8f7uG2"
      },
      "source": [
        "### Solution 1"
      ]
    },
    {
      "cell_type": "code",
      "metadata": {
        "id": "shHdBHtqp2AM"
      },
      "source": [
        "# Save this in  myDLIP.py\n",
        "\n",
        "def minVal(input):\n",
        "    min = input[0]\n",
        "    for i in range(0,len(input),1):   # for (i = 0; i < len(input); i++)\n",
        "        if (input[i] < min):\n",
        "            min = input[i]\n",
        "    return min\n",
        "\n",
        "def maxVal(input):\n",
        "    max = input[0]\n",
        "    for elem in input:\n",
        "        if (elem > max):\n",
        "            max = elem\n",
        "    return max\n",
        "\n",
        "def minIdx(input):\n",
        "    min = input[0]\n",
        "    for i in range(len(input)):\n",
        "        if (input[i] < min):\n",
        "            min = input[i]\n",
        "            minIdx = i\n",
        "    return minIdx, min\n",
        "\n",
        "def maxIdx(input):\n",
        "    max = input[0]\n",
        "    for i, elem in enumerate(input):\n",
        "        if (elem > max):\n",
        "            max = elem\n",
        "            maxIdx = i\n",
        "    return maxIdx, max"
      ],
      "execution_count": null,
      "outputs": []
    },
    {
      "cell_type": "code",
      "metadata": {
        "id": "3TUypat7p6GE"
      },
      "source": [
        "#import myDLIP as dp \n",
        "#from myDLIP import *\n",
        "\n",
        "# Create a List \n",
        "a = [1,2,3,44,-1,4,22]\n",
        "\n",
        "# Display min/max value and index\n",
        "\n",
        "print(minVal(a))\n",
        "print(maxVal(a))\n",
        "print(minIdx(a))\n",
        "print(maxIdx(a))\n",
        "\n",
        "#print(dp.minVal(a))\n",
        "#print(dp.maxVal(a))\n",
        "#print(dp.minIdx(a))\n",
        "#print(dp.maxIdx(a))\n"
      ],
      "execution_count": null,
      "outputs": []
    }
  ]
}