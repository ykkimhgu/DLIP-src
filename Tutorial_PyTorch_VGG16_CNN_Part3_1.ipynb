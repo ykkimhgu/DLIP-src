{
  "cells": [
    {
      "cell_type": "markdown",
      "metadata": {
        "colab_type": "text",
        "id": "view-in-github"
      },
      "source": [
        "<a href=\"https://colab.research.google.com/github/ykkimhgu/DLIP-src/blob/main/Tutorial_Pytorch/Tutorial_PyTorch_VGG16_CNN_Part3_1.ipynb\" target=\"_parent\"><img src=\"https://colab.research.google.com/assets/colab-badge.svg\" alt=\"Open In Colab\"/></a>"
      ]
    },
    {
      "cell_type": "markdown",
      "metadata": {
        "id": "xRZWfUwWQ1f6"
      },
      "source": [
        "# **DLIP Tutorial - PyTorch**\n",
        "# CIFAR-10 Classification using PyTorch - Part 3\n",
        "Y.-K. Kim\n",
        "(updated 2022. 5. 6) \n",
        "\n",
        "===================\n",
        "\n",
        "The purpose of this tutorial is to learn how to build a simple CNN model for classification of CIFAR-10\n",
        "\n",
        "You must do: **Tutorial_PyTorch_MNIST_MLP_Part1 & 2**  before this tutorial\n",
        "\n",
        "* Part 1:  Create LeNet5 CNN model and Train with opendataset (CIFAR10)\n",
        "* Part 2:  Test with loading trained model(LeNet-5)\n",
        "* Part 3-1:  Create a CNN model(VGG-16) \n",
        "* Part 3-2:  Create and Train a CNN model(VGG-16) with opendataset(CIFAR-10)"
      ]
    },
    {
      "cell_type": "markdown",
      "metadata": {
        "id": "xab0AzXTQ62Y"
      },
      "source": [
        "# Setup Pytorch and Numpy and Device\n"
      ]
    },
    {
      "cell_type": "code",
      "execution_count": 1,
      "metadata": {
        "id": "a9hU4TNgQzAu"
      },
      "outputs": [],
      "source": [
        "import torch\n",
        "import torchvision\n",
        "import torchvision.transforms as transforms\n",
        "import numpy as np\n",
        "import torch.nn as nn\n",
        "import torch.nn.functional as F\n",
        "import torch.optim as optim\n",
        "import matplotlib.pyplot as plt"
      ]
    },
    {
      "cell_type": "code",
      "execution_count": 2,
      "metadata": {
        "colab": {
          "base_uri": "https://localhost:8080/"
        },
        "id": "fSlpzBkbSWn9",
        "outputId": "d7884142-101b-4d55-877a-513b1d8b4fb1"
      },
      "outputs": [
        {
          "name": "stdout",
          "output_type": "stream",
          "text": [
            "Using cuda device\n",
            "Device name: NVIDIA GeForce RTX 4080 Laptop GPU\n"
          ]
        }
      ],
      "source": [
        "# Get cpu or gpu device for training.\n",
        "device = \"cuda\" if torch.cuda.is_available() else \"cpu\"\n",
        "\n",
        "print(f\"Using {device} device\")\n",
        "if torch.cuda.is_available(): print(f'Device name: {torch.cuda.get_device_name(0)}') "
      ]
    },
    {
      "cell_type": "markdown",
      "metadata": {
        "id": "85aC7eEvRD2q"
      },
      "source": [
        "# Prepare Datasets: Input and Output"
      ]
    },
    {
      "cell_type": "markdown",
      "metadata": {
        "id": "AIAX4YhwSzac"
      },
      "source": [
        "In Part 3-1, we will not use dataset for training.  \n"
      ]
    },
    {
      "cell_type": "markdown",
      "metadata": {
        "id": "HS-4blG6Ugc5"
      },
      "source": [
        "# (Exercise) Define model - VGG 16\n",
        "\n",
        "create a class that inherits from nn.Module\n",
        "\n",
        "\n",
        "* Define the layers of the network in  __init__ function\n",
        "* Specify Forward network in the **forward function.**"
      ]
    },
    {
      "cell_type": "markdown",
      "metadata": {
        "id": "IdIlH3E2eRs7"
      },
      "source": [
        "\n",
        "![VGG16.png](https://user-images.githubusercontent.com/23421059/167051297-fc0f379e-bba9-484e-b223-10349d256985.png)\n",
        "\n",
        "#### Architecture detailed \n",
        "![](https://user-images.githubusercontent.com/23421059/167063778-2b1458a8-d7dc-4fc0-acd1-ec0ea51c4a8f.png)"
      ]
    },
    {
      "cell_type": "code",
      "execution_count": null,
      "metadata": {
        "id": "yZvql0nMgPkk"
      },
      "outputs": [],
      "source": [
        "#########################################################\n",
        "# [EXERCISE] Create VGG-16 architecture (refer to part1)\n",
        "#########################################################\n",
        "class VGG16(nn.Module):\n",
        "    def __init__(self):\n",
        "        super(VGG16, self).__init__()\n",
        "\n",
        "        # ADD YOUR CODE HERE\n",
        "        # ADD YOUR CODE HERE\n",
        "        # ADD YOUR CODE HERE\n",
        "\n",
        "    def forward(self, x):\n",
        "\n",
        "        # ADD YOUR CODE HERE\n",
        "        # ADD YOUR CODE HERE\n",
        "        # ADD YOUR CODE HERE\n",
        "\n",
        "model = VGG16().to(device)\n",
        "print(model)"
      ]
    },
    {
      "cell_type": "markdown",
      "metadata": {
        "id": "7SPvx776gUcj"
      },
      "source": [
        "Check your model is valid by **summary()** function\n"
      ]
    },
    {
      "cell_type": "code",
      "execution_count": null,
      "metadata": {
        "id": "KcNiG096gUAz"
      },
      "outputs": [],
      "source": [
        "from torchsummary import summary\n",
        "summary(model, (3, 224, 244))"
      ]
    }
  ],
  "metadata": {
    "colab": {
      "collapsed_sections": [],
      "include_colab_link": true,
      "name": "Tutorial_PyTorch_VGG16_CNN_Part3_1.ipynb",
      "provenance": []
    },
    "kernelspec": {
      "display_name": "Python 3",
      "name": "python3"
    },
    "language_info": {
      "codemirror_mode": {
        "name": "ipython",
        "version": 3
      },
      "file_extension": ".py",
      "mimetype": "text/x-python",
      "name": "python",
      "nbconvert_exporter": "python",
      "pygments_lexer": "ipython3",
      "version": "3.9.18"
    }
  },
  "nbformat": 4,
  "nbformat_minor": 0
}
