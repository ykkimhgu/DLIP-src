{
  "nbformat": 4,
  "nbformat_minor": 0,
  "metadata": {
    "colab": {
      "name": "Tutorial_PyTorch_VGG16_CNN_Part3_1.ipynb",
      "provenance": [],
      "collapsed_sections": [],
      "include_colab_link": true
    },
    "kernelspec": {
      "name": "python3",
      "display_name": "Python 3"
    },
    "language_info": {
      "name": "python"
    }
  },
  "cells": [
    {
      "cell_type": "markdown",
      "metadata": {
        "id": "view-in-github",
        "colab_type": "text"
      },
      "source": [
        "<a href=\"https://colab.research.google.com/github/ykkimhgu/DLIP-src/blob/main/Tutorial_Pytorch/Tutorial_PyTorch_VGG16_CNN_Part3_1.ipynb\" target=\"_parent\"><img src=\"https://colab.research.google.com/assets/colab-badge.svg\" alt=\"Open In Colab\"/></a>"
      ]
    },
    {
      "cell_type": "markdown",
      "source": [
        "# **DLIP Tutorial - PyTorch**\n",
        "# CIFAR-10 Classification using PyTorch - Part 3\n",
        "Y.-K. Kim\n",
        "(updated 2022. 5. 6) \n",
        "\n",
        "===================\n",
        "\n",
        "The purpose of this tutorial is to learn how to build a simple CNN model for classification of CIFAR-10\n",
        "\n",
        "You must do: **Tutorial_PyTorch_MNIST_MLP_Part1 & 2**  before this tutorial\n",
        "\n",
        "* Part 1:  Create LeNet5 CNN model and Train with opendataset (CIFAR10)\n",
        "* Part 2:  Test with loading trained model(LeNet-5)\n",
        "* Part 3-1:  Create a CNN model(VGG-16) \n",
        "* Part 3-2:  Create and Train a CNN model(VGG-16) with opendataset(CIFAR-10)"
      ],
      "metadata": {
        "id": "xRZWfUwWQ1f6"
      }
    },
    {
      "cell_type": "markdown",
      "source": [
        "# Setup Pytorch and Numpy and Device\n"
      ],
      "metadata": {
        "id": "xab0AzXTQ62Y"
      }
    },
    {
      "cell_type": "code",
      "execution_count": null,
      "metadata": {
        "id": "a9hU4TNgQzAu"
      },
      "outputs": [],
      "source": [
        "import torch\n",
        "import torchvision\n",
        "import torchvision.transforms as transforms\n",
        "import numpy as np\n",
        "import torch.nn as nn\n",
        "import torch.nn.functional as F\n",
        "import torch.optim as optim\n",
        "import matplotlib.pyplot as plt"
      ]
    },
    {
      "cell_type": "code",
      "source": [
        "# Get cpu or gpu device for training.\n",
        "device = \"cuda\" if torch.cuda.is_available() else \"cpu\"\n",
        "\n",
        "print(f\"Using {device} device\")\n",
        "if torch.cuda.is_available(): print(f'Device name: {torch.cuda.get_device_name(0)}') "
      ],
      "metadata": {
        "colab": {
          "base_uri": "https://localhost:8080/"
        },
        "id": "fSlpzBkbSWn9",
        "outputId": "d7884142-101b-4d55-877a-513b1d8b4fb1"
      },
      "execution_count": null,
      "outputs": [
        {
          "output_type": "stream",
          "name": "stdout",
          "text": [
            "Using cpu device\n"
          ]
        }
      ]
    },
    {
      "cell_type": "markdown",
      "source": [
        "# Prepare Datasets: Input and Output"
      ],
      "metadata": {
        "id": "85aC7eEvRD2q"
      }
    },
    {
      "cell_type": "markdown",
      "source": [
        "In Part 3-1, we will not use dataset for training.  \n"
      ],
      "metadata": {
        "id": "AIAX4YhwSzac"
      }
    },
    {
      "cell_type": "markdown",
      "source": [
        "# (Exercise) Define model - VGG 16\n",
        "\n",
        "create a class that inherits from nn.Module\n",
        "\n",
        "\n",
        "* Define the layers of the network in  __init__ function\n",
        "* Specify Forward network in the **forward function.**"
      ],
      "metadata": {
        "id": "HS-4blG6Ugc5"
      }
    },
    {
      "cell_type": "markdown",
      "source": [
        "\n",
        "![VGG16.png](https://user-images.githubusercontent.com/23421059/167051297-fc0f379e-bba9-484e-b223-10349d256985.png)\n",
        "\n",
        "#### Architecture detailed \n",
        "![](https://user-images.githubusercontent.com/23421059/167063778-2b1458a8-d7dc-4fc0-acd1-ec0ea51c4a8f.png)"
      ],
      "metadata": {
        "id": "IdIlH3E2eRs7"
      }
    },
    {
      "cell_type": "code",
      "source": [
        "#########################################################\n",
        "# [EXERCISE] Create VGG-16 architecture (refer to part1)\n",
        "#########################################################\n",
        "class VGG16(nn.Module):\n",
        "    def __init__(self):\n",
        "        super(VGG16, self).__init__()\n",
        "\n",
        "        # ADD YOUR CODE HERE\n",
        "        # ADD YOUR CODE HERE\n",
        "        # ADD YOUR CODE HERE\n",
        "\n",
        "    def forward(self, x):\n",
        "\n",
        "        # ADD YOUR CODE HERE\n",
        "        # ADD YOUR CODE HERE\n",
        "        # ADD YOUR CODE HERE\n",
        "\n",
        "model = VGG16().to(device)\n",
        "print(model)"
      ],
      "metadata": {
        "id": "yZvql0nMgPkk"
      },
      "execution_count": null,
      "outputs": []
    },
    {
      "cell_type": "markdown",
      "source": [
        "Check your model is valid by **summary()** function\n"
      ],
      "metadata": {
        "id": "7SPvx776gUcj"
      }
    },
    {
      "cell_type": "code",
      "source": [
        "from torchsummary import summary\n",
        "summary(model, (3, 224, 244))"
      ],
      "metadata": {
        "id": "KcNiG096gUAz"
      },
      "execution_count": null,
      "outputs": []
    }
  ]
}