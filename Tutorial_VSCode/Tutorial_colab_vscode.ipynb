{
  "nbformat": 4,
  "nbformat_minor": 0,
  "metadata": {
    "colab": {
      "name": "Tutorial_colab_vscode.ipynb",
      "provenance": [],
      "authorship_tag": "ABX9TyOKRrwZ0jQap0GIkeCqsm8M",
      "include_colab_link": true
    },
    "kernelspec": {
      "name": "python3",
      "display_name": "Python 3"
    },
    "language_info": {
      "name": "python"
    }
  },
  "cells": [
    {
      "cell_type": "markdown",
      "metadata": {
        "id": "view-in-github",
        "colab_type": "text"
      },
      "source": [
        "<a href=\"https://colab.research.google.com/github/ykkimhgu/DLIP-src/blob/main/Tutorial_VSCode/Tutorial_colab_vscode.ipynb\" target=\"_parent\"><img src=\"https://colab.research.google.com/assets/colab-badge.svg\" alt=\"Open In Colab\"/></a>"
      ]
    },
    {
      "cell_type": "markdown",
      "source": [
        "# Tutorial: Programming Notebook(colab/jupyter) Using VSCODE\n",
        "A test program for read/modifying a notebook file created in COLAB using VS Code"
      ],
      "metadata": {
        "id": "z7v66vTa6Vt6"
      }
    },
    {
      "cell_type": "markdown",
      "source": [
        "## Import and version check"
      ],
      "metadata": {
        "id": "HE91L-pR6icw"
      }
    },
    {
      "cell_type": "code",
      "execution_count": null,
      "metadata": {
        "colab": {
          "base_uri": "https://localhost:8080/"
        },
        "id": "hb3jSjV36S4I",
        "outputId": "75cd39ac-4fec-427e-b2b5-e3bca1182de5"
      },
      "outputs": [
        {
          "output_type": "stream",
          "name": "stdout",
          "text": [
            "1.21.5\n"
          ]
        }
      ],
      "source": [
        "# import numpy using alias of np\n",
        "import numpy as np\n",
        "\n",
        "# check version\n",
        "print(np.__version__)"
      ]
    },
    {
      "cell_type": "markdown",
      "metadata": {
        "id": "FG0uVrY8FgrH"
      },
      "source": [
        "# Arrays\n",
        "\n",
        "The array object in NumPy is called ndarray.\n",
        "\n",
        "We can create a NumPy ndarray object by using the array() function.\n",
        "\n",
        "we can pass a **list, tuple or any array-like object** into the array() method, and it will be converted into an **ndarray**:"
      ]
    },
    {
      "cell_type": "markdown",
      "metadata": {
        "id": "6iZqfD34MRZQ"
      },
      "source": [
        "### 1-D Arrays"
      ]
    },
    {
      "cell_type": "code",
      "source": [
        "import numpy as np\n",
        "\n",
        "# Pass a List\n",
        "arr = np.array([1, 2, 3, 4, 5])\n",
        "print(arr)\n",
        "print(type(arr))\n",
        "\n",
        "# Pass a Tuple\n",
        "arr = np.array((1, 2, 3, 4, 5))\n",
        "print(arr)\n",
        "print(type(arr))"
      ],
      "metadata": {
        "colab": {
          "base_uri": "https://localhost:8080/"
        },
        "id": "oIVksST066ut",
        "outputId": "9ba9ffad-5a75-4b45-910e-2890ae9ee285"
      },
      "execution_count": null,
      "outputs": [
        {
          "output_type": "stream",
          "name": "stdout",
          "text": [
            "[1 2 3 4 5]\n",
            "<class 'numpy.ndarray'>\n",
            "[1 2 3 4 5]\n",
            "<class 'numpy.ndarray'>\n"
          ]
        }
      ]
    },
    {
      "cell_type": "markdown",
      "metadata": {
        "id": "t8NjtnHM7CrF"
      },
      "source": [
        "### 2-D Arrays\n",
        "\n",
        "dim: (Row, Col)"
      ]
    },
    {
      "cell_type": "code",
      "metadata": {
        "id": "VIy8aNjQMUxP",
        "colab": {
          "base_uri": "https://localhost:8080/"
        },
        "outputId": "a091a26c-57a7-4ef4-a97d-6046813d2fd8"
      },
      "source": [
        "# (2x3)\n",
        "mat2D = np.array([[1, 2, 3], [4, 5, 6]])\n",
        "\n",
        "print(mat2D)\n",
        "print(mat2D.ndim)\n",
        "print(mat2D.shape)\n",
        "\n",
        "# Access elements\n",
        "print(mat2D[0,0])\n",
        "print(mat2D[0,1])\n",
        "print(mat2D[1,0])"
      ],
      "execution_count": null,
      "outputs": [
        {
          "output_type": "stream",
          "name": "stdout",
          "text": [
            "[[1 2 3]\n",
            " [4 5 6]]\n",
            "2\n",
            "(2, 3)\n",
            "1\n",
            "2\n",
            "4\n"
          ]
        }
      ]
    }
  ]
}